{
 "cells": [
  {
   "cell_type": "markdown",
   "id": "ed4b46d7",
   "metadata": {},
   "source": [
    "# 3.8. High School Students and Data Science Careers\n",
    "https://www.coursera.org/learn/what-is-datascience/lecture/9PvQU/high-school-students-and-data-science-careers"
   ]
  },
  {
   "cell_type": "markdown",
   "id": "36c698d8",
   "metadata": {},
   "source": [
    "According to Dr. White, the industrial world is shifting to a new trend, and for high school students to be on the right side of this new trend, his advice to them is:\n",
    "1. Try to start experimenting with building small systems that work and are useful.\n",
    "2. Learn statistics.\n",
    "3. To learn how to program.\n",
    "4. Take a course in probability.\n",
    "5. Learn some math.\n",
    "\n",
    "\n",
    "## Norman White, Clinical Professor of CMS, Faculty Director, Research Computing, New York University, Stern\n",
    "\n",
    "1. Learn how to program.\n",
    "2. Learn some math.\n",
    "3. Take a course in probability.\n",
    "4. Learn a little bit of statistics. Play- build something, write something\n",
    "\n",
    "> I mean, when I say build, programming and building systems, building things isn't just physical, right? You can build computer systems, statistical systems, whatever. But once you try to do something, then you'll know what tools you need, right? And you'll say, \"Oh, oh my god, what? \"There's this expression there, \"what does an inner product mean? \"What's that? \"How do I, oh, okay, I can learn that.\" And then when they get to college, they will have a big jump on many of the other college students. And so when they get out of college, they'll have an even bigger jump, and then make a lot of money. And they'll be happy, too. This stuff is fun, right? It's fun."
   ]
  },
  {
   "cell_type": "markdown",
   "id": "b7f36a3b",
   "metadata": {},
   "source": [
    "## Jeff Sternberg, Data Engineering Director, Ipreo\n",
    "> If you're in high school and you're considering data science, I would say get familiar with data bases, start learning SQL, start thinking about, you know, computer science, if that's interesting. If you have a computer science course in your\n",
    "school, you know, take it, and that's a good part of being a data scientist.\n",
    "\n",
    "> Beyond that there are probably ways to foster your creativity, right, your curiosity. If you like detective games, that's kind of cool, right. And if you like treasure hunts or whatever, right, if you're into that stuff, I think you'll, and you get the opportunity to do that stuff, that will help you as a data scientist because it's a really a good way to kind of make sure that you can be curious as you go about your daily life.\n",
    "\n",
    "#### What would you say to parents about data science careers?\n",
    "> Encourage the curiosity, encourage the experimentation. It's kind of like science fairs, science fairs are great, they encourage that experimentation, that learning from, asking a question and answering it through a scientific method, but doing that with data sets rather than vinegar volcanoes. It's kind of the same thing, but learning from data and we're going through an election season right now, there's a lot of stuff in the news about polls and survey results and that's a great way to start a conversation and talk about how do the people who ran the polls, how do they know, how can they predict what's going to happen in the election. So that's another cool way to start a conversation about data science.\n",
    "\n",
    "\n",
    "#### What would you say to high school educators about data science careers?\n",
    "> I would say encourage the person who is interested in data science because to pursue is. Because it's a great career and it is something that is definitely going to be in need in the future. It's one of those highly sought after knowledge professions that are really important to businesses around the world. So being a data scientist and being able to help companies as they grow and learn how do to things more efficiently or how to do things smarter, there will always be a need for people like that. And data scientists are those people.\n",
    "\n",
    "\n",
    "#### What would you say to someone who is nervous about math?\n",
    "> I would say that I understand what you're talking about because I was never a great mathematics student as well. And I think there's actually a bunch of data\n",
    "scientist, who are really successful and popular, who are in the same boat. You know there's kind of arithmetic and math in school is not necessarily everybody's best subject. But when you combine it with, you know these aren't just hypothetical numbers, these aren't just, problem statements that you have no connection to. When you have a connection to the problem, it suddenly becomes much easier to use math to help understand it, I found. And so you know, knowing the people who will benefit from the math that you do I think is really cool."
   ]
  }
 ],
 "metadata": {
  "kernelspec": {
   "display_name": "Python 3 (ipykernel)",
   "language": "python",
   "name": "python3"
  },
  "language_info": {
   "codemirror_mode": {
    "name": "ipython",
    "version": 3
   },
   "file_extension": ".py",
   "mimetype": "text/x-python",
   "name": "python",
   "nbconvert_exporter": "python",
   "pygments_lexer": "ipython3",
   "version": "3.9.0"
  }
 },
 "nbformat": 4,
 "nbformat_minor": 5
}
