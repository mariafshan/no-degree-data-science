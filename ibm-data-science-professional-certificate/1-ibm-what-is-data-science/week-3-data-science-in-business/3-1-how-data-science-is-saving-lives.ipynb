{
 "cells": [
  {
   "cell_type": "markdown",
   "id": "ed4b46d7",
   "metadata": {},
   "source": [
    "# 3.1. How Data Science is saving lives\n",
    "https://www.coursera.org/learn/what-is-datascience/lecture/RvMe9/how-data-science-is-saving-lives"
   ]
  },
  {
   "cell_type": "markdown",
   "id": "36c698d8",
   "metadata": {},
   "source": [
    "Using Data Science techniques to understand and analyze the large data sets available today has a huge impact on human lives. It can provide targeted information to help healthcare professionals give the best treatment to patients, or help predict natural disasters so that people can prepare early, and much more besides."
   ]
  },
  {
   "cell_type": "markdown",
   "id": "a0fcdc04",
   "metadata": {},
   "source": [
    "## Data Science in Healthcare\n",
    "![](3-1-1.jpg)\n",
    "\n",
    "In healthcare, data scientists use predictive analytics developed from data mining, data modeling, statistics, and machine learning to find the best options for patients.\n",
    "\n",
    "![](3-1-2.jpg)\n",
    "\n",
    "This type of predictive analytics examines all known factors for a disease, including gene markers, associated conditions, and environmental factors.\n",
    "\n",
    "![](3-1-3.jpg)\n",
    "\n",
    "It then recommends appropriate tests, suitable trials, and any suggested treatments.\n",
    "\n",
    "Every individual physician has their own store of knowledge gained from their studies, interests, and experiences. Data science systems that use predictive analytics ensure that all physicians can also access the latest information about the disease, tests, and treatment plans, tailored to their specific patient.\n",
    "\n",
    "With this type of system, every physician has access to the same knowledge, and the best options can be consistently offered, improving patient outcomes. For example, a study by the Boston Consulting Group and AdvaMedDx, an industry association of medical diagnostics companies, examined the barriers to the adoption of potentially lifesaving diagnostic tests for patients with a specific cancer and a particular gene marker.\n",
    "\n",
    "The study discovered that the biggest factor in the patient being offered a specific test was the patient’s oncologist, who may or may not have known about the test and its relationship to the gene marker. By providing extra information through data science tools, physicians can be made aware of the most helpful tests and treatments for a specific patient."
   ]
  },
  {
   "cell_type": "markdown",
   "id": "2e200c91",
   "metadata": {},
   "source": [
    "## Data Mining\n",
    "There are many opportunities to explore other ways to mine data, such as from electronic medical records for different types of medical research. Schools such as the NorthShore University HealthSystem in suburban Chicago, a leader in the implementation of Electronic Medical Records (EMR) systems, now offer guidance on data mining.\n",
    "\n",
    "It is the first healthcare provider in America to be awarded the highest level of EMR deployment for both inpatient and outpatient care. This remarkable effort has generated much-anonymized data available for innovative analytics research.\n",
    "\n",
    "Developing more sophisticated big data analytics capabilities helps healthcare organizations move from basic descriptive analytics towards predictive insights, thanks to data science."
   ]
  },
  {
   "cell_type": "markdown",
   "id": "25d613b3",
   "metadata": {},
   "source": [
    "## Disaster Preparedness\n",
    "In the field of Disaster Preparedness, the ability to save lives using Data Science tools has been under development for many years. The use of predictive analytics tools is improving and providing new data analysis in a multitude of ways, alerting populations to danger faster than ever before.\n",
    "\n",
    "Large, high-quality data sets can be used to predict the occurrence of numerous types of natural disasters, which can be the difference between life and death for thousands of people. Earthquakes, hurricanes & tornados, floods, and volcanic eruptions can be predicted with the help of data science.\n",
    "\n",
    "Recent research at the University of Warwick in the UK used social media content such as photos and keywords to track the development of floods, hurricanes and other weather events. When added to the information recorded by scientists and weather stations, this type of data can be used to improve the predictions for localised weather events.\n",
    "\n",
    "Because the real benefit of this knowledge is so important, schools are starting to include this type of data science education in their curriculum. For instance, the University of Chicago Graham School offers a Master of Science course in Threat and Response Management.\n",
    "\n",
    "Data science tools enable organizations to analyse vast quantities of data from widely different sources, and present that information in a way that allows data scientists to gain new knowledge, in some cases, saving hundreds of lives."
   ]
  }
 ],
 "metadata": {
  "kernelspec": {
   "display_name": "Python 3 (ipykernel)",
   "language": "python",
   "name": "python3"
  },
  "language_info": {
   "codemirror_mode": {
    "name": "ipython",
    "version": 3
   },
   "file_extension": ".py",
   "mimetype": "text/x-python",
   "name": "python",
   "nbconvert_exporter": "python",
   "pygments_lexer": "ipython3",
   "version": "3.9.0"
  }
 },
 "nbformat": 4,
 "nbformat_minor": 5
}
