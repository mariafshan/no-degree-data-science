{
 "cells": [
  {
   "cell_type": "markdown",
   "id": "a85119e8",
   "metadata": {},
   "source": [
    "# 3.2. How Should Companies Get Started in Data Science?\n",
    "https://www.coursera.org/learn/what-is-datascience/lecture/AAArc/how-should-companies-get-started-in-data-science"
   ]
  },
  {
   "cell_type": "markdown",
   "id": "f261a729",
   "metadata": {},
   "source": [
    "Some of the first steps that companies need to take to get started in data science:\n",
    "1. Start collecting data - Without data, no data science work can be carried out\n",
    "2. Put together a team of data scientists - You need competent data scientists who would use the data to help you make data-driven decisions"
   ]
  },
  {
   "cell_type": "markdown",
   "id": "7e3780b2",
   "metadata": {},
   "source": [
    "## Murtaza Haider, PhD, Associate Professor, Ted Rogers School of Management\n",
    "> At the end of the day, for businesses, they know one thing, that if they are unable to measure something, they are unable to improve it. And if they are unable to measure their costs, they are unable to reduce them. If they're unable to measure their profits, they are unable to increase them. So the first thing a company has to do is to start recording information, start capturing data, data about costs. And the differentiate it by labor costs and material cost, the cost to how much it cost to sell one product and the total cost. And then you look at the revenue, where's your revenue coming from? Is 80% of your revenue coming from 20% of your customers? Or is it the other way around?\n",
    "\n",
    "> So first thing first, start capturing data. Once you have data, then you can apply algorithms and analytics to it. So the first thing to do would be to capture data. If you're not capturing it, start capturing it. If you're capturing it, archive it. Do not overwrite on your old data thinking you don't need it anymore. Data never gets old. Data is always relevant, even if it's 100 years old, 200 years old. It is relevant to you and and your firm and your success. So keep data, capture it, archive it, make sure nothing goes to waste. Make sure there's a consistency. So someone 20 years later trying to understand, that data should be able to do so, so have proper documentation. Do it now. Put the best practices for data archiving in place the moment you start a business. And if you're already in business and you haven't done it, do it now."
   ]
  },
  {
   "cell_type": "markdown",
   "id": "7eee2a6e",
   "metadata": {},
   "source": [
    "## Stephen Sherman\n",
    "> Start measuring things. Too many companies haven't measured things properly for a decade and, then they decide, they want data science. Data science inside a company is only going to be as valuable as the data collected. Garbage in, garbage out is a rule in any sort of analysis."
   ]
  },
  {
   "cell_type": "markdown",
   "id": "c8b92c69",
   "metadata": {},
   "source": [
    "## Shingai Manjengwa, CEO, Fireside Analytics Inc.\n",
    "> If something is not measured, it's very difficult to improve it or to change it. So the very first step is measurement. If companies have existing data, then they should start looking at it and cleaning it. If they don't have existing data, then they need to start collecting it."
   ]
  },
  {
   "cell_type": "markdown",
   "id": "f5aa62e3",
   "metadata": {},
   "source": [
    "## Mandeep Kaur\n",
    "> I think to look for a team who love to work as a data scientist."
   ]
  },
  {
   "cell_type": "markdown",
   "id": "cd200aee",
   "metadata": {},
   "source": [
    "## Luis O. Martins\n",
    "> The first stop is to have employees, that they are interested on data science. because if you don't have interest in your company, you will not have engagement."
   ]
  },
  {
   "cell_type": "markdown",
   "id": "5dd5790d",
   "metadata": {},
   "source": [
    "## Diana Zarate Diaz\n",
    "> Companies should remember, that it's key to have a team. So it's not one data scientist, but a team of them, that each of them have strengths in different areas of data science."
   ]
  }
 ],
 "metadata": {
  "kernelspec": {
   "display_name": "Python 3 (ipykernel)",
   "language": "python",
   "name": "python3"
  },
  "language_info": {
   "codemirror_mode": {
    "name": "ipython",
    "version": 3
   },
   "file_extension": ".py",
   "mimetype": "text/x-python",
   "name": "python",
   "nbconvert_exporter": "python",
   "pygments_lexer": "ipython3",
   "version": "3.9.0"
  }
 },
 "nbformat": 4,
 "nbformat_minor": 5
}
