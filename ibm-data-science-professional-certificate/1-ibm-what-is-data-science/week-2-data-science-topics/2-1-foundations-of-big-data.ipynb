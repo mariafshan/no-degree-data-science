{
 "cells": [
  {
   "cell_type": "markdown",
   "id": "ed4b46d7",
   "metadata": {},
   "source": [
    "# 2.1. Foundations of Big Data\n",
    "https://www.coursera.org/learn/what-is-datascience/lecture/dxcNH/foundations-of-big-data"
   ]
  },
  {
   "cell_type": "markdown",
   "id": "36c698d8",
   "metadata": {},
   "source": [
    "In this digital world, everyone leaves a trace. From our travel habits to our workouts and entertainment, the increasing number of internet connected devices that we interact with on a daily basis record vast amounts of data about us.\n",
    "\n",
    "There’s even a name for it: **Big Data**.\n",
    "\n",
    "#### Ernst and Young Definition\n",
    "> Big Data refers to the dynamic, large and disparate volumes of data being created by people, tools, and machines. It requires new, innovative, and scalable technology to collect, host, and analytically process the vast amount of data gathered in order to derive real-time business insights that relate to consumers, risk, profit, performance, productivity management, and enhanced shareholder value."
   ]
  },
  {
   "cell_type": "markdown",
   "id": "6838eb57",
   "metadata": {},
   "source": [
    "### The V's of Big Data\n",
    "There is no one definition of Big Data, but there are certain elements that are common across the different definitions, such as:\n",
    "1. Velocity\n",
    "2. Volume\n",
    "3. Variety\n",
    "4. Veracity\n",
    "5. Value \n",
    "\n",
    "#### Velocity\n",
    "Velocity is the **speed** at which data accumulates. Data is being generated extremely fast, in a process that never stops. Near or real-time streaming, local, and cloud-based technologies can process information very quickly.\n",
    "\n",
    "#### Volume\n",
    "Volume is the **scale** of the data, or the increase in the amount of data stored.\n",
    "\n",
    "Drivers:\n",
    "1. The increase in data sources\n",
    "2. Higher resolution sensors\n",
    "3. Scalable infrastructure\n",
    "\n",
    "#### Variety\n",
    "Variety is the **diversity** of the data.\n",
    "\n",
    "Structured data fits neatly into rows and columns. In relational databases while unstructured data is not organized in a pre-defined way, like Tweets, blog posts, pictures, numbers, and video, variety also reflects that data comes from different sources, machines, people, and processes, both internal and external to organizations.\n",
    "\n",
    "Drivers:\n",
    "1. Mobile technologies\n",
    "2. Social media\n",
    "3. Wearable technologies\n",
    "4. Geo technologies\n",
    "5. Video\n",
    "6. Etc.\n",
    "\n",
    "#### Veracity\n",
    "Veracity is the **quality** and **origin** of data, and its conformity to **facts** and **accuracy**.\n",
    "\n",
    "Attributes:\n",
    "1. Consistency\n",
    "2. Completeness\n",
    "3. Integrity\n",
    "4. Ambiguity\n",
    "\n",
    "Drivers:\n",
    "1. Cost\n",
    "2. The need for traceability\n",
    "\n",
    "With the large amount of data available, the debate rages on about the accuracy of data in the digital age. Is the information real, or is it false?\n",
    "\n",
    "#### Value\n",
    "Value is our ability and need to turn data into value.\n",
    "\n",
    "Value isn't just profit. It may have medical or social benefits, as well as customer, employee, or personal satisfaction. The main reason that people invest time to understand Big Data is to derive value from it."
   ]
  },
  {
   "cell_type": "markdown",
   "id": "8b7fee00",
   "metadata": {},
   "source": [
    "### The V's in Action.\n",
    "#### Velocity\n",
    "Every 60 seconds, hours of footage are uploaded to YouTube which is generating data. Think about how quickly data accumulates over hours, days, and years.\n",
    "\n",
    "#### Volume\n",
    "The world population is approximately seven billion people and the vast majority are now using digital devices; mobile phones, desktop and laptop computers, wearable devices, and so on. These devices all generate, capture, and store data -- approximately 2.5 quintillion bytes every day. That's the equivalent of 10 million Blu-ray DVD's.\n",
    "\n",
    "#### Variety\n",
    "Let's think about the different types of data; text, pictures, film, sound, health data from wearable devices, and many different types of data from devices connected to the Internet of Things.\n",
    "\n",
    "#### Veracity\n",
    "80% of data is considered to be unstructured and we must devise ways to produce **reliable** and **accurate** insights. The data must be **categorized**, **analyzed**, and **visualized**."
   ]
  },
  {
   "cell_type": "markdown",
   "id": "a6ba8d39",
   "metadata": {},
   "source": [
    "### Data Analysis Tools\n",
    "Data Scientists today derive insights from Big Data and cope with the challenges that these massive data sets present. The scale of the data being collected means that it’s not feasible to use conventional data analysis tools.\n",
    "\n",
    "However, alternative tools that leverage distributed computing power can overcome this problem. Tools such as **Apache Spark**, **Hadoop** and its ecosystem provide ways to **extract**, **load**, **analyze**, and **process** the data across distributed compute resources, providing **new insights** and **knowledge**. This gives organizations more ways to connect with their customers and enrich the services they offer.\n",
    "\n",
    "So next time you strap on your smartwatch, unlock your smartphone, or track your workout, remember your data is starting a journey that might take it all the way around the world, through big data analysis, and back to you."
   ]
  }
 ],
 "metadata": {
  "kernelspec": {
   "display_name": "Python 3 (ipykernel)",
   "language": "python",
   "name": "python3"
  },
  "language_info": {
   "codemirror_mode": {
    "name": "ipython",
    "version": 3
   },
   "file_extension": ".py",
   "mimetype": "text/x-python",
   "name": "python",
   "nbconvert_exporter": "python",
   "pygments_lexer": "ipython3",
   "version": "3.9.0"
  }
 },
 "nbformat": 4,
 "nbformat_minor": 5
}
