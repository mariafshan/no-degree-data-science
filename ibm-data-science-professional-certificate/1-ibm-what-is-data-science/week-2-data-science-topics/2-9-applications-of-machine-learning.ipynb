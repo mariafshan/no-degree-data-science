{
 "cells": [
  {
   "cell_type": "markdown",
   "id": "ed4b46d7",
   "metadata": {},
   "source": [
    "# 2.9. Applications of Machine Learning\n",
    "https://www.coursera.org/learn/what-is-datascience/lecture/dpvuM/applications-of-machine-learning"
   ]
  },
  {
   "cell_type": "markdown",
   "id": "78d82ea7",
   "metadata": {},
   "source": [
    "Netflix uses machine learning to recommend movies to you based on movies that you have already watched and liked or disliked."
   ]
  },
  {
   "cell_type": "markdown",
   "id": "36c698d8",
   "metadata": {},
   "source": [
    "### Norman White, Clinical Professor of CMS, Faculty Director, Research Computing, New York University, Stern\n",
    "\n",
    "> Everybody now deals with machine learning. But recommender systems are certainly one of the major applications.\n",
    "\n",
    "> Classifications, cluster analysis, trying to find some of the marketing questions from 20 years ago, market basket analysis, what goods tend to be bought together. That was computationally a very difficult problem, I mean we're now doing that all the time with machine learning.\n",
    "\n",
    "> So predictive analytics is another area of machine learning. We're using new techniques to predict things that statisticians don't particularly like. Decision trees, Bayesian Analysis, naive Bayes, lots of different techniques. The nice thing about them is that in packages like R now, you really have to understand how these techniques can be used and you don't have to know exactly how to do them but you have to understand what their meanings are.\n",
    "\n",
    "> Precision versus recall and the problems of over sampling and over fitting so you can, someone who knows a little about data science can apply these techniques but they really need to know, maybe not the details of the technique as much as how, what the trade-offs are."
   ]
  },
  {
   "cell_type": "markdown",
   "id": "f8e75f15",
   "metadata": {},
   "source": [
    "### Jeff Sternberg, Data Engineering Director, Ipreo\n",
    "> So, some applications of machine learning in fintech are probably the - couple of different things I could talk about there.\n",
    "\n",
    "> One of them is recommendations. Right, so, when you use Netflix, or you use Facebook, or a lot of different software services, the recommendations are served to you. Meaning, \"Hey, you're a user, you've watched this show, so maybe you'd like to see this other show.\" Right, or, you follow this person, so maybe you should follow this other person.\n",
    "\n",
    "> It's actually kind of the same thing in fintech, right. Because you've looked at - if you're an investment professional, right, and because you've looked at this investment idea, it might be really cool for you to look at this other investment idea, which is kind of similar. Right, it's a similar kind of asset, it's a similar kind of company. Or it's a similar kind of technique for doing the investment. So, We can apply recommendations using machine learning throughout a lot of different parts of fintech.\n",
    "\n",
    "> Another one that people talk about, and is important especially on retail, in the retail aspects of banking and finance is fraud detection. Trying to determine whether a charge that comes a credit card is fraudulent or not, in real time, is a machine learning problem. Right, you have to learn from all of the transactions that have happened previously and build a model, and when the charge comes through you have to compute all this stuff and say, \"Yeah we think that's ok,\" or \"hmm, that's not so good. Let's route it to, you know, our fraud peope to check.\""
   ]
  }
 ],
 "metadata": {
  "kernelspec": {
   "display_name": "Python 3 (ipykernel)",
   "language": "python",
   "name": "python3"
  },
  "language_info": {
   "codemirror_mode": {
    "name": "ipython",
    "version": 3
   },
   "file_extension": ".py",
   "mimetype": "text/x-python",
   "name": "python",
   "nbconvert_exporter": "python",
   "pygments_lexer": "ipython3",
   "version": "3.9.0"
  }
 },
 "nbformat": 4,
 "nbformat_minor": 5
}
