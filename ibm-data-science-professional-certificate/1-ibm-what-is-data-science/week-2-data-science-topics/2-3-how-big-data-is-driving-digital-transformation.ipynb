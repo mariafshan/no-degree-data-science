{
 "cells": [
  {
   "cell_type": "markdown",
   "id": "ed4b46d7",
   "metadata": {},
   "source": [
    "# 2.3. How Big Data is Driving Digital Transformation\n",
    "https://www.coursera.org/learn/what-is-datascience/lecture/kt5UL/how-big-data-is-driving-digital-transformation"
   ]
  },
  {
   "cell_type": "markdown",
   "id": "36c698d8",
   "metadata": {},
   "source": [
    "Digital Transformation affects business operations, updating existing processes and operations and creating new ones to harness the benefits of new technologies.\n",
    "\n",
    "This digital change integrates digital technology into all areas of an organization resulting in fundamental changes to how it operates and delivers value to customers. It is an organizational and cultural change driven by **Data Science**, and especially **Big Data**.\n",
    "\n",
    "The availability of vast amounts of data, and the competitive advantage that analyzing it brings, has triggered digital transformations throughout many industries.\n",
    "\n",
    "1. Netflix moved from being a postal DVD lending system to one of the world’s foremost video streaming providers\n",
    "2. The Houston Rockets NBA team used data gathered by overhead cameras to analyze the most productive plays.\n",
    "3. Lufthansa analyzed customer data to improve its service."
   ]
  },
  {
   "cell_type": "markdown",
   "id": "199fffc0",
   "metadata": {},
   "source": [
    "#### Example of Big Data triggering a digital transformation in an entire industry\n",
    "\n",
    "In 2018, the Houston Rockets, a National Basketball Association, or NBA team, raised their game using Big Data. The Rockets were one of four NBA teams to install a video tracking system which mined raw data from games. They analyzed video tracking data to investigate which plays provided the best opportunities for high scores, and discovered something surprising.\n",
    "\n",
    "Data analysis revealed that the shots that provide the best opportunities for high scores are two-point dunks from inside the two-point zone, and three-point shots from outside the three-point line, not long-range two-point shots from inside it. This discovery entirely changed the way the team approached each game, increasing the number of three-point shots attempted.\n",
    "\n",
    "In the 2017-18 season, the Rockets made more three-point shots than any other team in NBA history, and this was a major reason they won more games than any of their rivals. In basketball, Big Data changed the way teams try to win, transforming the approach to the game."
   ]
  },
  {
   "cell_type": "markdown",
   "id": "41aa0365",
   "metadata": {},
   "source": [
    "Digital transformation is not simply duplicating existing processes in digital form; the in-depth analysis of how the business operates helps organizations discover how to improve their processes and operations, and harness the\n",
    "benefits of integrating data science into their workflows.\n",
    "\n",
    "Most organizations realize that digital transformation will require fundamental changes to their approach towards data, employees, and customers, and it will affect their organizational culture.\n",
    "\n",
    "Digital transformation impacts every aspect of the organization, so it is handled by decision makers at the very top levels to ensure success. The support of the Chief Executive Officer is crucial to the digital transformation process, as is the support of the Chief Information Officer, and the emerging role of Chief Data Officer. But they also require support from the executives who control budgets, personnel decisions, and day-to-day priorities. This is a whole organization process. Everyone must support it for it to succeed.\n",
    "\n",
    "There is no doubt dealing with all the issues that arise in this effort requires a new mindset, but Digital Transformation is the way to succeed now and in the future."
   ]
  }
 ],
 "metadata": {
  "kernelspec": {
   "display_name": "Python 3 (ipykernel)",
   "language": "python",
   "name": "python3"
  },
  "language_info": {
   "codemirror_mode": {
    "name": "ipython",
    "version": 3
   },
   "file_extension": ".py",
   "mimetype": "text/x-python",
   "name": "python",
   "nbconvert_exporter": "python",
   "pygments_lexer": "ipython3",
   "version": "3.9.0"
  }
 },
 "nbformat": 4,
 "nbformat_minor": 5
}
