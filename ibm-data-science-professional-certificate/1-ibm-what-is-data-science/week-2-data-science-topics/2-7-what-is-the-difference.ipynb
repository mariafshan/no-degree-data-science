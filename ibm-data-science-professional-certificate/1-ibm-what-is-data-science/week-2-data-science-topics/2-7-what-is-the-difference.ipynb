{
 "cells": [
  {
   "cell_type": "markdown",
   "id": "ed4b46d7",
   "metadata": {},
   "source": [
    "# 2.7. What's the Difference?\n",
    "https://www.coursera.org/learn/what-is-datascience/lecture/DwDPU/whats-the-difference"
   ]
  },
  {
   "cell_type": "markdown",
   "id": "36c698d8",
   "metadata": {},
   "source": [
    "![](2-7-1.jpg)"
   ]
  },
  {
   "cell_type": "markdown",
   "id": "6b55b857",
   "metadata": {},
   "source": [
    "### Big Data\n",
    "The term **big data** refers to data sets that are **so massive**, so **quickly built**, and **so varied** that they defy traditional analysis methods such as you might perform with a relational database.\n",
    "\n",
    "The concurrent development of enormous compute power in distributed networks and new tools and techniques for data analysis means that organizations now have the power to analyze these vast data sets. A new knowledge and insights are becoming available to everyone.\n",
    "\n",
    "![](2-7-2.jpg)\n",
    "Big data is often described in terms of five V's:\n",
    "1. Velocity\n",
    "2. Volume\n",
    "3. Variety\n",
    "4. Veracity\n",
    "5. Value"
   ]
  },
  {
   "cell_type": "markdown",
   "id": "0c1fe2cd",
   "metadata": {},
   "source": [
    "### Data Mining\n",
    "![](2-7-3.jpg)\n",
    "Data mining is the process of automatically **searching** and **analyzing** data, discovering previously unrevealed **patterns**. It involves **preprocessing** the data to prepare it and transforming it into an appropriate format.\n",
    "\n",
    "Once this is done, **insights** and **patterns** are **mined** and **extracted** using various tools and techniques ranging from simple data visualization tools to machine learning and statistical models."
   ]
  },
  {
   "cell_type": "markdown",
   "id": "02a042eb",
   "metadata": {},
   "source": [
    "### Machine Learning\n",
    "![](2-7-4.jpg)\n",
    "Machine learning is a subset of AI that uses computer algorithms to **analyze** data and make **intelligent decisions** based on what it is learned without being explicitly programmed.\n",
    "\n",
    "Machine learning algorithms are **trained** with large sets of data and they **learn from examples**. They do not follow rules-based algorithms. Machine learning is what enables machines to solve problems on their own and make accurate predictions using the provided data."
   ]
  },
  {
   "cell_type": "markdown",
   "id": "d681c5c7",
   "metadata": {},
   "source": [
    "### Deep Learning\n",
    "![](2-7-5.jpg)\n",
    "Deep learning is a specialized subset of machine learning that uses **layered neural networks** to simulate **human decision-making**.\n",
    "\n",
    "Deep learning algorithms can **label** and **categorize information** and **identify patterns**. It is what enables AI systems to continuously learn on the job and improve the quality and accuracy of results by determining whether decisions were correct."
   ]
  },
  {
   "cell_type": "markdown",
   "id": "5597b774",
   "metadata": {},
   "source": [
    "### Artificial Neural Networks\n",
    "![](2-7-6.jpg)\n",
    "Artificial neural networks, often referred to simply as neural networks, take inspiration from **biological neural networks**, although they work quite a bit differently. A neural network in AI is a collection of **small computing units** called **neurons** that take incoming data and learn to make decisions over time.\n",
    "\n",
    "Neural networks are often layer-deep and are the reason deep learning algorithms become more efficient as the data sets increase in volume, as opposed to other machine learning algorithms that may plateau as data increases."
   ]
  },
  {
   "cell_type": "markdown",
   "id": "c5749ff9",
   "metadata": {},
   "source": [
    "![](2-7-7.jpg)"
   ]
  },
  {
   "cell_type": "markdown",
   "id": "fd0b2549",
   "metadata": {},
   "source": [
    "## AI vs Data Science\n",
    "![](2-7-8.jpg)\n",
    "Data Science is the process and method for **extracting knowledge** and **insights** from **large volumes** of **disparate data**.\n",
    "\n",
    "It's an **interdisciplinary field** involving **mathematics**, **statistical analysis**, **data visualization**, **machine learning**, and more. It's what makes it possible for us to appropriate information, see patterns, find meaning from large volumes of data and use it to make decisions that drive business.\n",
    "\n",
    "Data Science can use many of the AI techniques to derive insight from data. For example, it could use machine learning algorithms and even deep learning models to extract meaning and draw inferences from data.\n",
    "\n",
    "There is some interaction between AI and Data Science, but one is not a subset of the other. Rather, Data Science is a **broad term** that encompasses the entire data processing methodology while AI includes everything that allows computers to **learn** how to solve problems and make **intelligent decisions**.\n",
    "\n",
    "Both AI and Data Science can involve the use of big data. That is, significantly large volumes of data."
   ]
  }
 ],
 "metadata": {
  "kernelspec": {
   "display_name": "Python 3 (ipykernel)",
   "language": "python",
   "name": "python3"
  },
  "language_info": {
   "codemirror_mode": {
    "name": "ipython",
    "version": 3
   },
   "file_extension": ".py",
   "mimetype": "text/x-python",
   "name": "python",
   "nbconvert_exporter": "python",
   "pygments_lexer": "ipython3",
   "version": "3.9.0"
  }
 },
 "nbformat": 4,
 "nbformat_minor": 5
}
