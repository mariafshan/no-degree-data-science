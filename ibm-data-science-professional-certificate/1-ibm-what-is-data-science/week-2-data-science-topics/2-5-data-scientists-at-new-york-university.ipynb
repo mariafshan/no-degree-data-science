{
 "cells": [
  {
   "cell_type": "markdown",
   "id": "ed4b46d7",
   "metadata": {},
   "source": [
    "# 2.5. Data Scientists at New York University\n",
    "https://www.coursera.org/learn/what-is-datascience/lecture/ivDZx/data-scientists-at-new-york-university"
   ]
  },
  {
   "cell_type": "markdown",
   "id": "36c698d8",
   "metadata": {},
   "source": [
    "### Norman White, Clinical Professor of CMS, Faculty Director, Research Computing, New York University, Stern\n",
    "\n",
    "Data science and business analytics became very hot subjects recently, since around the year 2012.\n",
    "\n",
    "According to Dr. White:\n",
    "1. Big data was started by Google when Google tried to figure out how how to solve their PageRank algorithm.\n",
    "2. Big data is is data that is large enough and has enough volume and velocity that you cannot handle it with traditional data database systems.\n",
    "\n",
    "> Everybody knows how to program, at least a little bit. They all have a little bit of programming background at least, and some of them have a lot. Some of them are Masters of Science and Computer Science, some of them are MBA students who've come in from technical fields and programmed every day. And others are ones who maybe took a programming course in college four or five years ago but at least they can think computationally, which I think is the most important thing that they need."
   ]
  },
  {
   "cell_type": "markdown",
   "id": "499e0232",
   "metadata": {},
   "source": [
    "#### Are data science skills becoming more important in the work place?\n",
    "> Data science and business analytics have become very hot subjects in the last four or five years. We have new tools, we have new approaches, and we have lots and lots of data that traditional techniques just couldn't really store and handle. I think the word is out. I think at this point, at first, companies and employers understood the need, especially in certain fields. I can remember talking to a major bank three years ago about big data and there was one little group in the bank where one person had a little effort in putting a little cluster together. Now that same bank has five or six major big data clusters and they're putting all of their credit card data in it and they're grinding it upside down and sideways, using all sorts of data science kinds of techniques.\n",
    "\n",
    "> Two years ago, or was it last year, I think, our undergraduate dealing with data course had 28 students in it. This year it has 140. So that means that the parents are now beginning to get the word, because one thing we understand with our undergrads is the parents who are paying very hefty tuitions, they, you know, they tell their sons and daughters, \"You know, you should be an accountant,\" right? Or, \"You should go into financial services, \"or into marketing, 'cause this is where the money is.\" Now, they're getting the word that maybe you should take some more STEM classes in high school and be ready to go into data science or go into fields where analytics has become more and more important."
   ]
  },
  {
   "cell_type": "markdown",
   "id": "f2176470",
   "metadata": {},
   "source": [
    "#### What is Big Data?\n",
    "> It depends on who you are. I have my own definition of big data.\n",
    "\n",
    "> My definition of big data is data that is large enough and has enough volume and velocity that you cannot handle it with traditional database systems.\n",
    "\n",
    "> Some of our statisticians think big data is something you can't fit on a thumb drive.\n",
    "\n",
    "> Big data, to me, was started by Google. When Google tried to figure out how they were, when Larry Page and Sergey Brin wanted to, basically, figure out how to solve their page rank algorithm, there was nothing out there. They were trying to store all of the web pages in the world, and there was no technology, there was no way to do this, and so they went out and developed this approach, which has now become, Hadoop has copied it, but this is where all these large, big data clusters are found.\n",
    "\n",
    "> But big data has now also expanded into, how do you analyze? There are new analytical techniques and statistical techniques for handling these really, really, really large data sets. We'll probably get to deep learning at some point along here."
   ]
  }
 ],
 "metadata": {
  "kernelspec": {
   "display_name": "Python 3 (ipykernel)",
   "language": "python",
   "name": "python3"
  },
  "language_info": {
   "codemirror_mode": {
    "name": "ipython",
    "version": 3
   },
   "file_extension": ".py",
   "mimetype": "text/x-python",
   "name": "python",
   "nbconvert_exporter": "python",
   "pygments_lexer": "ipython3",
   "version": "3.9.0"
  }
 },
 "nbformat": 4,
 "nbformat_minor": 5
}
