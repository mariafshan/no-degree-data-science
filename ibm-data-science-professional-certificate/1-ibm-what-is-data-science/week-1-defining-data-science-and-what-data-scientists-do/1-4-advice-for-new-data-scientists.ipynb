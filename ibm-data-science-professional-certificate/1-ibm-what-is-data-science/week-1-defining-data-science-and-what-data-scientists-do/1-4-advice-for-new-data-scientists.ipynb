{
 "cells": [
  {
   "cell_type": "markdown",
   "id": "a85119e8",
   "metadata": {},
   "source": [
    "# 1.4. Advice for New Data Scientists\n",
    "https://www.coursera.org/learn/what-is-datascience/lecture/tVi7S/advice-for-new-data-scientists"
   ]
  },
  {
   "cell_type": "markdown",
   "id": "f261a729",
   "metadata": {},
   "source": [
    "## Murtaza Haider, PhD, Associate Professor, Ted Rogers School of Management\n",
    "\n",
    "According to professor Haider, the three important qualities to possess in order to succeed as a data scientist are:\n",
    "1. Curious\n",
    "2. Judgemental\n",
    "3. Argumentative\n",
    "\n",
    "> My advice to an aspiring data scientist is to be **curious**, **extremely argumentative** and **judgmental**.\n",
    "\n",
    "#### Curiosity\n",
    "> Curiosity is absolute must. If you're not curious, you would not know what to do with the data.\n",
    "\n",
    "#### Judgmental\n",
    "> Because if you do not have preconceived notions about things you wouldn't know where to begin with.\n",
    "\n",
    "#### Argumentative\n",
    "> Because if you can argument and if you can plead a case, at least you can start somewhere and then you learn from data and then you modify your assumptions and hypotheses and your data would help you learn and you may start at the wrong point. You may say that I thought I believed this, but now with data I know this. So, this allows you a learning process.\n",
    "\n",
    "> So, curiosity being able to take a position, strong position, and then moving forward with it. \n",
    "\n",
    "### Secondary Tools\n",
    "1. Some software\n",
    "2. Some computing platform\n",
    "\n",
    "> The most important thing is curiosity and the ability to take positions.\n",
    "\n",
    "> Once you have done that, once you've analyzed, then you've got some answers and that's the last thing that a data scientist need, and that is the **ability to tell a story**. That once you have your analytics, once you have your tabulations, now you should be able to tell a great story from it. Because if you don't tell a great story from it, your findings will remain hidden, remain buried, nobody would know. Your rise to prominence is pretty much relying on your ability to tell great stories.\n",
    "\n",
    "### Starting point\n",
    "1. What is your competitive advantage?\n",
    "2. Do you want to be a data scientist in any field or a specific field? \n",
    "\n",
    "> Because, let's say you want to be a data scientist and work for an IT firm or a web-based or Internet based firm, then you need a different set of skills\n",
    "\n",
    "> If you want to be a data scientist, for lets say, in the health industry, then you need different sets of skills.\n",
    "\n",
    "> So, figure out first what you're interested, and what is your competitive advantage.\n",
    "\n",
    "#### Competitive Advantage\n",
    "> Your competitive advantage is not necessarily going to be your analytical skills.\n",
    "\n",
    "> Your competitive advantage is your understanding of some aspect of life where you exceed beyond others in understanding that. Maybe it's film, maybe it's retail, maybe it's health, maybe it's computers.\n",
    "\n",
    "> Once you've figured out where your expertise lies, then you start acquiring analytical skills. What platforms to learn and those platforms, those tools would be specific to the industry that you're interested in and then once you have got some proficiency in the tools, the next thing would be to apply your skills to real problems, and then tell the rest of the world what you can do with it."
   ]
  }
 ],
 "metadata": {
  "kernelspec": {
   "display_name": "Python 3 (ipykernel)",
   "language": "python",
   "name": "python3"
  },
  "language_info": {
   "codemirror_mode": {
    "name": "ipython",
    "version": 3
   },
   "file_extension": ".py",
   "mimetype": "text/x-python",
   "name": "python",
   "nbconvert_exporter": "python",
   "pygments_lexer": "ipython3",
   "version": "3.9.0"
  }
 },
 "nbformat": 4,
 "nbformat_minor": 5
}
