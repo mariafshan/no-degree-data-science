{
 "cells": [
  {
   "cell_type": "markdown",
   "id": "a85119e8",
   "metadata": {},
   "source": [
    "# 1.3. The Many Paths to Data Science\n",
    "https://www.coursera.org/learn/what-is-datascience/lecture/QcFwx/the-many-paths-to-data-science"
   ]
  },
  {
   "cell_type": "markdown",
   "id": "f261a729",
   "metadata": {},
   "source": [
    "#### Shingai Manjengwa, CEO, Fireside Analytics Inc.\n",
    "> Data science didn't really exist when I was growing up. It's not something that I ever woke up and said, I want to be a data scientist when I grow up. No, it didn't exist. I didn't know I would be working in data science.\n",
    "\n",
    "> My undergraduate degree was in business, and I majored in politics, philosophy, and economics and then I did a masters in business analytics at New York University at\n",
    "the Stern School of Business. When I left my undergrad,\n",
    "the first company I joined, it turned out that they were analyzing electronic point of sale data for retail manufacturers and what we were doing was data science. But we only really started using that term much later. In fact, I'd say four or five years ago is when we started calling it analytics and data science.\n",
    "\n",
    "#### Rafael B. Da Silva\n",
    "> When I grew up, there isn't that field called data science. And I think it's really new.\n",
    "\n",
    "> I had a complicated problem that I needed to solve, and the usual techniques that we had at that time couldn't help with that problem.\n",
    "\n",
    "#### Stephen Sherman\n",
    "> Data science didn't exist until 2009, 2011. Someone like DJ Patil or Andrew Gelman coined the term. Before that, there was statistics and I didn't want to be any of those. I want to be in business and then I found data science a heck of a lot more interesting.\n",
    "\n",
    "> I graduated with a math degree in the worst possible time, right after the economic crisis, and you actually had to be useful to get a job. So I went and got a degree in statistics and then I worked enough jobs that were called data scientist that I suddenly became one.\n",
    "\n",
    "#### Diana Zarate Diaz\n",
    "> I studied statistics, that's how I started. I went through many different stages in my life where I wanted to be a singer and then a doctor. And then I realized that I was good at math. So, I chose an area that was\n",
    "focused on quantitative analysis and from then I do think that I wanted to work with data. Not necessarily data science as it's known today.\n",
    "\n",
    "#### Luis O. Martins\n",
    "> The first time that I had contact with data science, when I was my first year as a mechanical engineering and strategic consulting firms, they use data science to make decisions. So, it was my first contact with data science.\n",
    "\n",
    "> I had several options for my internship here in Canada and one of the options was to work with data science. I used to work with project development but I think that was a good choice and then I start my\n",
    "internship with data science. \n",
    "\n",
    "#### Murtaza Haider, PhD, Associate Professor, Ted Rogers School of Management\n",
    "> I'm a civil engineer by training, so all engineers work with data. I would say the conventional use of data science in my life started with transportation research. I started building large models trying to forecast traffic on streets, trying to determine congestion and greenhouse gas emissions or tailpipe emissions. So I think that's where my start was and I started building these models when I was a graduate student at the University of Toronto. Started working with very large data sets, looking at household samples of, say, 150,000 households from half a million trips and that, too, I'm speaking from mid 90s when this was supposed to be a very large data set, but not in today's terms. But that's how I started. I continued working with it. And then I moved to McGill University where I was a professor of transportation engineering and I built even bigger data models that involved data and analytics and so I would say, yes, transportation research brought me to data science.\n",
    "\n",
    "As data science is not a discipline traditionally taught at universities, contemporary data scientists come from diverse backgrounds such as engineering, statistics, and physics.\n",
    "\n",
    "This is correct. Contemporary data scientists come from different backgrounds such as engineering, mathematics, and even psychology. The secret skill is passion for continuous learning of new tools and patience to clean and analyze data."
   ]
  }
 ],
 "metadata": {
  "kernelspec": {
   "display_name": "Python 3 (ipykernel)",
   "language": "python",
   "name": "python3"
  },
  "language_info": {
   "codemirror_mode": {
    "name": "ipython",
    "version": 3
   },
   "file_extension": ".py",
   "mimetype": "text/x-python",
   "name": "python",
   "nbconvert_exporter": "python",
   "pygments_lexer": "ipython3",
   "version": "3.9.0"
  }
 },
 "nbformat": 4,
 "nbformat_minor": 5
}
