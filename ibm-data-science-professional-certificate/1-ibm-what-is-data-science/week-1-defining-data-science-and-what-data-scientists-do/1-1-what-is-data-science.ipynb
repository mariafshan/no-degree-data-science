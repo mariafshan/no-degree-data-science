{
 "cells": [
  {
   "cell_type": "markdown",
   "id": "ed4b46d7",
   "metadata": {},
   "source": [
    "# 1.1. What is Data Science?\n",
    "https://www.coursera.org/learn/what-is-datascience/lecture/kIuf0/what-is-data-science"
   ]
  },
  {
   "cell_type": "markdown",
   "id": "36c698d8",
   "metadata": {},
   "source": [
    "#### Shingai Manjengwa, CEO, Fireside Analytics Inc.\n",
    "> Data Science is a process, not an event. It is the process of using data to understand different things, to understand the world. \n",
    "\n",
    "#### Rafael B. Da Silva\n",
    ">For me is when you have a model or hypothesis of a problem, and you try to validate that hypothesis or model with your data.\n",
    "\n",
    "#### Diana Zarate Diaz\n",
    "> Data science is the art of uncovering the insights and trends that are hiding behind data.\n",
    "\n",
    "#### Luis O. Martins\n",
    "> It's when you translate data into a story. So use storytelling to generate insight. And with these insights, you can make strategic choices for a company or an institution.\n",
    "\n",
    "#### Mandeep Kaur\n",
    "> Data science is a field about processes and systems to extract data from various forms of whether it is unstructured or structured form.\n",
    "\n",
    "#### Stephen Sherman\n",
    "> Data science is the study of data. Like biological sciences is a study of biology, physical sciences, it's the study of physical reactions. Data is real, data has real properties, and we need to study them if we're going to work on them.\n",
    "\n",
    "#### Murtaza Haider, PhD, Associate Professor, Ted Rogers School of Management\n",
    "> Data Science involves data and some science. The definition or the name came up in the 80s and 90s when some professors were looking into the statistics curriculum, and they thought it would be better to call it data science. But what is Data Science? I'd see data science as one's attempt to work with data, to find answers to questions that they are exploring. In a nutshell, it's more about data than it is about science. If you have data, and you have curiosity, and you're working with data, and you're manipulating it, you're exploring it, the very exercise of going through analyzing data, trying to get some answers from it is data science. Data science is relevant today because we have tons of data available. We used to worry about lack of data. Now we have a data deluge. In the past, we didn't have algorithms, now we have algorithms. In the past, the software was expensive, now it's open source and free. In the past, we couldn't store large amounts of data, now for a fraction of the cost, we can have gazillions of datasets for a very low cost. So, the tools to work with data, the very availability of data, and the ability to store and analyze data, it's all cheap, it's all available, it's all ubiquitous, it's here. There's never been a better time to be a data scientist.\n",
    "\n",
    "Data science is the field of exploring, manipulating, and analyzing data, and using data to answer questions or make recommendations.\n",
    "\n",
    "Although the different data scientists interviewed in the video gave what seemed like different answers, they all agreed that data science involved using data to answer questions or make recommendations."
   ]
  },
  {
   "cell_type": "code",
   "execution_count": null,
   "id": "82a4a4f2",
   "metadata": {},
   "outputs": [],
   "source": []
  }
 ],
 "metadata": {
  "kernelspec": {
   "display_name": "Python 3 (ipykernel)",
   "language": "python",
   "name": "python3"
  },
  "language_info": {
   "codemirror_mode": {
    "name": "ipython",
    "version": 3
   },
   "file_extension": ".py",
   "mimetype": "text/x-python",
   "name": "python",
   "nbconvert_exporter": "python",
   "pygments_lexer": "ipython3",
   "version": "3.9.0"
  }
 },
 "nbformat": 4,
 "nbformat_minor": 5
}
