{
 "cells": [
  {
   "cell_type": "code",
   "execution_count": 3,
   "id": "8d4e65fa",
   "metadata": {},
   "outputs": [],
   "source": [
    "import nltk\n",
    "from textblob import TextBlob\n",
    "import pandas as pd\n",
    "import numpy as np\n",
    "import time"
   ]
  },
  {
   "cell_type": "code",
   "execution_count": 4,
   "id": "3acf0457",
   "metadata": {},
   "outputs": [],
   "source": [
    "df = pd.read_csv(\"lia_thomas_tweets.csv\", sep=\";\", low_memory=False)"
   ]
  },
  {
   "cell_type": "code",
   "execution_count": 6,
   "id": "0385b066",
   "metadata": {},
   "outputs": [],
   "source": [
    "tweet = [line for line in df.content]\n",
    "date = [date for date in df.date]\n",
    "username = [user_name for user_name in df.username]"
   ]
  },
  {
   "cell_type": "code",
   "execution_count": 8,
   "id": "225401f4",
   "metadata": {},
   "outputs": [],
   "source": [
    "tweet_date_sentiment = []"
   ]
  },
  {
   "cell_type": "markdown",
   "id": "0aa25f9f",
   "metadata": {},
   "source": [
    "#### Sentiment Analysis using TextBlob"
   ]
  },
  {
   "cell_type": "code",
   "execution_count": null,
   "id": "a43b0c3b-a410-4159-bec5-dbb8f9dfa403",
   "metadata": {},
   "outputs": [],
   "source": [
    "start = time.time()\n",
    "for i in range(len(tweet)):\n",
    "    print(f\"Currently analyzing: {tweet[i][:50]}, {i + 1} out of {len(tweet)} left.\")\n",
    "    \n",
    "    blob = TextBlob(tweet[i])\n",
    "    sentiment = blob.sentiment.polarity\n",
    "    \n",
    "    tweet_date_sentiment.append([date[i], username[i], tweet[i], sentiment])\n",
    "    \n",
    "    end = time.time()\n",
    "    print(f\"{round(((end - start) / 60),  0)} minutes have elapsed.\\n\")"
   ]
  },
  {
   "cell_type": "code",
   "execution_count": 11,
   "id": "317e0145",
   "metadata": {},
   "outputs": [],
   "source": [
    "tweet_date_sentiment_df = pd.DataFrame(tweet_date_sentiment, columns=['date', 'username', 'text', 'sentiment'])"
   ]
  },
  {
   "cell_type": "code",
   "execution_count": 12,
   "id": "e8b1231c",
   "metadata": {},
   "outputs": [
    {
     "data": {
      "text/html": [
       "<div>\n",
       "<style scoped>\n",
       "    .dataframe tbody tr th:only-of-type {\n",
       "        vertical-align: middle;\n",
       "    }\n",
       "\n",
       "    .dataframe tbody tr th {\n",
       "        vertical-align: top;\n",
       "    }\n",
       "\n",
       "    .dataframe thead th {\n",
       "        text-align: right;\n",
       "    }\n",
       "</style>\n",
       "<table border=\"1\" class=\"dataframe\">\n",
       "  <thead>\n",
       "    <tr style=\"text-align: right;\">\n",
       "      <th></th>\n",
       "      <th>date</th>\n",
       "      <th>username</th>\n",
       "      <th>text</th>\n",
       "      <th>sentiment</th>\n",
       "    </tr>\n",
       "  </thead>\n",
       "  <tbody>\n",
       "    <tr>\n",
       "      <th>0</th>\n",
       "      <td>2022-03-30 23:58:48+00:00</td>\n",
       "      <td>Frank60566087</td>\n",
       "      <td>Swimming World 03/30/22: “The NCAA has admitte...</td>\n",
       "      <td>0.125000</td>\n",
       "    </tr>\n",
       "    <tr>\n",
       "      <th>1</th>\n",
       "      <td>2022-03-30 23:58:29+00:00</td>\n",
       "      <td>NyxKillpop</td>\n",
       "      <td>Also, no, many black women have been disqualif...</td>\n",
       "      <td>-0.155556</td>\n",
       "    </tr>\n",
       "    <tr>\n",
       "      <th>2</th>\n",
       "      <td>2022-03-30 23:50:36+00:00</td>\n",
       "      <td>JsphMMA</td>\n",
       "      <td>Lia Thomas celebrated winning her women’s swim...</td>\n",
       "      <td>0.425000</td>\n",
       "    </tr>\n",
       "    <tr>\n",
       "      <th>3</th>\n",
       "      <td>2022-03-30 23:49:30+00:00</td>\n",
       "      <td>Eat_punchbeef</td>\n",
       "      <td>Anyway, here's to another week in the digital ...</td>\n",
       "      <td>0.000000</td>\n",
       "    </tr>\n",
       "    <tr>\n",
       "      <th>4</th>\n",
       "      <td>2022-03-30 23:47:54+00:00</td>\n",
       "      <td>stuckintheslope</td>\n",
       "      <td>Trans cyclist #EmilyBridges is BARRED from com...</td>\n",
       "      <td>-0.150000</td>\n",
       "    </tr>\n",
       "  </tbody>\n",
       "</table>\n",
       "</div>"
      ],
      "text/plain": [
       "                        date         username  \\\n",
       "0  2022-03-30 23:58:48+00:00    Frank60566087   \n",
       "1  2022-03-30 23:58:29+00:00       NyxKillpop   \n",
       "2  2022-03-30 23:50:36+00:00          JsphMMA   \n",
       "3  2022-03-30 23:49:30+00:00    Eat_punchbeef   \n",
       "4  2022-03-30 23:47:54+00:00  stuckintheslope   \n",
       "\n",
       "                                                text  sentiment  \n",
       "0  Swimming World 03/30/22: “The NCAA has admitte...   0.125000  \n",
       "1  Also, no, many black women have been disqualif...  -0.155556  \n",
       "2  Lia Thomas celebrated winning her women’s swim...   0.425000  \n",
       "3  Anyway, here's to another week in the digital ...   0.000000  \n",
       "4  Trans cyclist #EmilyBridges is BARRED from com...  -0.150000  "
      ]
     },
     "execution_count": 12,
     "metadata": {},
     "output_type": "execute_result"
    }
   ],
   "source": [
    "tweet_date_sentiment_df.head()"
   ]
  },
  {
   "cell_type": "code",
   "execution_count": 13,
   "id": "100418cf",
   "metadata": {},
   "outputs": [],
   "source": [
    "tweet_date_sentiment_df.to_csv('lia_thomas_sentiment_analysis.csv', sep=\";\")"
   ]
  }
 ],
 "metadata": {
  "kernelspec": {
   "display_name": "Python 3 (ipykernel)",
   "language": "python",
   "name": "python3"
  },
  "language_info": {
   "codemirror_mode": {
    "name": "ipython",
    "version": 3
   },
   "file_extension": ".py",
   "mimetype": "text/x-python",
   "name": "python",
   "nbconvert_exporter": "python",
   "pygments_lexer": "ipython3",
   "version": "3.10.4"
  }
 },
 "nbformat": 4,
 "nbformat_minor": 5
}
