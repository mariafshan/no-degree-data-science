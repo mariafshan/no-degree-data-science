{
 "cells": [
  {
   "cell_type": "markdown",
   "id": "610f0246",
   "metadata": {},
   "source": [
    "Reference: https://medium.com/dataseries/how-to-scrape-millions-of-tweets-using-snscrape-195ee3594721"
   ]
  },
  {
   "cell_type": "code",
   "execution_count": 1,
   "id": "05070fcf",
   "metadata": {},
   "outputs": [],
   "source": [
    "# importing libraries and packages\n",
    "import snscrape.modules.twitter as sntwitter\n",
    "import pandas as pd\n",
    "import numpy as np"
   ]
  },
  {
   "cell_type": "markdown",
   "id": "9f9b6148",
   "metadata": {},
   "source": [
    "# Scraping tweets from a text search query"
   ]
  },
  {
   "cell_type": "code",
   "execution_count": null,
   "id": "1bcb3688",
   "metadata": {},
   "outputs": [],
   "source": [
    "# Creating list to append tweet data to\n",
    "tweets_list2 = []"
   ]
  },
  {
   "cell_type": "code",
   "execution_count": null,
   "id": "e9162278",
   "metadata": {},
   "outputs": [],
   "source": [
    "# Using TwitterSearchScraper to scrape data and append tweets to list\n",
    "for i,tweet in enumerate(sntwitter.TwitterSearchScraper('lia thomas since:2021-1-1 until:2022-3-27').get_items()):\n",
    "#     if i>000:\n",
    "#         break\n",
    "    tweets_list2.append([tweet.url, tweet.date, tweet.content, tweet.renderedContent, tweet.id, tweet.user.username,\n",
    "                         tweet.replyCount, tweet.retweetCount, tweet.likeCount, tweet.quoteCount, tweet.conversationId,\n",
    "                         tweet.lang, tweet.source, tweet.sourceUrl, tweet.sourceLabel, tweet.outlinks, tweet.tcooutlinks,\n",
    "                         tweet.media, tweet.retweetedTweet, tweet.quotedTweet, tweet.inReplyToTweetId, tweet.inReplyToUser,\n",
    "                         tweet.mentionedUsers, tweet.coordinates, tweet.place, tweet.hashtags, tweet.cashtags])"
   ]
  },
  {
   "cell_type": "code",
   "execution_count": null,
   "id": "044b8501",
   "metadata": {},
   "outputs": [],
   "source": [
    "# Creating a dataframe from the tweets list above\n",
    "tweets_df2 = pd.DataFrame(tweets_list2, columns=[\"url\", \"date\", \"content\", \"renderedContent\", \"id\", \"username\", \"replyCount\",\n",
    "                                                 \"retweetCount\", \"likeCount\", \"quoteCount\", \"conversationId\", \"lang\", \"source\",\n",
    "                                                 \"sourceUrl\", \"sourceLabel\", \"outlinks\", \"tcooutlinks\", \"media\", \"retweetedTweet\",\n",
    "                                                 \"quotedTweet\", \"inReplyToTweetId\", \"inReplyToUser\", \"mentionedUsers\", \"coordinates\",\n",
    "                                                 \"place\", \"hashtags\", \"cashtags\"])"
   ]
  },
  {
   "cell_type": "code",
   "execution_count": null,
   "id": "1a160e74",
   "metadata": {},
   "outputs": [],
   "source": [
    "tweets_df2.head()"
   ]
  },
  {
   "cell_type": "code",
   "execution_count": null,
   "id": "17e1c33f",
   "metadata": {
    "scrolled": true
   },
   "outputs": [],
   "source": [
    "tweets_df2.to_csv('lia_thomas_more_parameters.csv', sep=\";\")"
   ]
  }
 ],
 "metadata": {
  "kernelspec": {
   "display_name": "Python 3 (ipykernel)",
   "language": "python",
   "name": "python3"
  },
  "language_info": {
   "codemirror_mode": {
    "name": "ipython",
    "version": 3
   },
   "file_extension": ".py",
   "mimetype": "text/x-python",
   "name": "python",
   "nbconvert_exporter": "python",
   "pygments_lexer": "ipython3",
   "version": "3.10.4"
  }
 },
 "nbformat": 4,
 "nbformat_minor": 5
}
