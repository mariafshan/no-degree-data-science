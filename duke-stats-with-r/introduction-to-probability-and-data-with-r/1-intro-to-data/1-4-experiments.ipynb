{
 "cells": [
  {
   "cell_type": "markdown",
   "id": "a6844fcc",
   "metadata": {},
   "source": [
    "OpenIntro Statistics, 4th edition\n",
    "\n",
    "End of chapter exercises in Chapter 1: 1.4\n",
    "### 1.4. EXPERIMENTS"
   ]
  },
  {
   "cell_type": "markdown",
   "id": "fe1e2427",
   "metadata": {},
   "source": [
    "#### 1.29 Light and exam performance.\n",
    "A study is designed to test the effect of light level on exam performance of students. The researcher believes that light levels might have different effects on males and females, so wants to make sure both are equally represented in each treatment. The treatments are fluorescent overhead lighting, yellow overhead lighting, no overhead lighting (only desk lamps)."
   ]
  },
  {
   "cell_type": "markdown",
   "id": "f2ed94db",
   "metadata": {},
   "source": [
    "a. What is the response variable?"
   ]
  },
  {
   "cell_type": "markdown",
   "id": "5e545ec8",
   "metadata": {},
   "source": [
    "##### Answer\n",
    "> Exam performance."
   ]
  },
  {
   "cell_type": "markdown",
   "id": "2b073fad",
   "metadata": {},
   "source": [
    "b. What is the explanatory variable? What are its levels?"
   ]
  },
  {
   "cell_type": "markdown",
   "id": "e43c2cd6",
   "metadata": {},
   "source": [
    "##### Answer\n",
    "> Light level (over-head lighting, yellow overhead lighting, no overhead lighting) and noise level (no noise, construction noise, and human chatter noise)."
   ]
  },
  {
   "cell_type": "markdown",
   "id": "1ebb010d",
   "metadata": {},
   "source": [
    "c. What is the blocking variable? What are its levels?"
   ]
  },
  {
   "cell_type": "markdown",
   "id": "fadb9605",
   "metadata": {},
   "source": [
    "##### Answer\n",
    "> Since the researchers want to ensure equal gender representation, sex will be a blocking variable."
   ]
  },
  {
   "cell_type": "markdown",
   "id": "4257eeaa",
   "metadata": {},
   "source": [
    "#### 1.30 Vitamin supplements.\n",
    "To assess the effectiveness of taking large doses of vitamin C in reducing the duration of the common cold, researchers recruited 400 healthy volunteers from staff and students at a university. A quarter of the patients were assigned a placebo, and the rest were evenly divided between 1g Vitamin C, 3g Vitamin C, or 3g Vitamin C plus additives to be taken at onset of a cold for the following two days. All tablets had identical appearance and packaging. The nurses who handed the prescribed pills to the patients knew which patient received which treatment, but the researchers assessing the patients when they were sick did not. No significant differences were observed in any measure of cold duration or severity between the four groups, and the placebo group had the shortest duration of symptoms."
   ]
  },
  {
   "cell_type": "markdown",
   "id": "4c5e7329",
   "metadata": {},
   "source": [
    "a. Was this an experiment or an observational study? Why?"
   ]
  },
  {
   "cell_type": "markdown",
   "id": "1982f303",
   "metadata": {},
   "source": [
    "##### Answer\n",
    "> Experiment because the researchers have control group."
   ]
  },
  {
   "cell_type": "markdown",
   "id": "3e5bb03b",
   "metadata": {},
   "source": [
    "b. What are the explanatory and response variables in this study?"
   ]
  },
  {
   "cell_type": "markdown",
   "id": "9ae7191f",
   "metadata": {},
   "source": [
    "##### Answer\n",
    "> Explanatory: dose of vitamin C\n",
    "\n",
    "> Response: cold duration"
   ]
  },
  {
   "cell_type": "markdown",
   "id": "296d103e",
   "metadata": {},
   "source": [
    "c. Were the patients blinded to their treatment?"
   ]
  },
  {
   "cell_type": "markdown",
   "id": "0c1f4fb8",
   "metadata": {},
   "source": [
    "##### Answer\n",
    "> Yes"
   ]
  },
  {
   "cell_type": "markdown",
   "id": "c3048461",
   "metadata": {},
   "source": [
    "d. Was this study double-blind?"
   ]
  },
  {
   "cell_type": "markdown",
   "id": "1d81b8b5",
   "metadata": {},
   "source": [
    "##### Answer\n",
    "> No, because the nurse knew who got the placebo who did not."
   ]
  },
  {
   "cell_type": "markdown",
   "id": "a7b7ebc9",
   "metadata": {},
   "source": [
    "e. Participants are ultimately able to choose whether or not to use the pills prescribed to them. We might expect that not all of them will adhere and take their pills. Does this introduce a confounding variable to the study? Explain your reasoning."
   ]
  },
  {
   "cell_type": "markdown",
   "id": "d3f19d0c",
   "metadata": {},
   "source": [
    "##### Answer\n",
    "> Yes, because those who did not take it should have similar result as the placebo group."
   ]
  },
  {
   "cell_type": "markdown",
   "id": "a9390d70",
   "metadata": {},
   "source": [
    "#### 1.31 Light, noise, and exam performance.\n",
    "A study is designed to test the effect of light level and noise level on exam performance of students. The researcher believes that light and noise levels might have different effects on males and females, so wants to make sure both are equally represented in each treatment. The light treatments considered are fluorescent overhead lighting, yellow overhead lighting, no overhead lighting (only desk lamps). The noise treatments considered are no noise, construction noise, and human chatter noise."
   ]
  },
  {
   "cell_type": "markdown",
   "id": "17945789",
   "metadata": {},
   "source": [
    "a. What type of study is this?"
   ]
  },
  {
   "cell_type": "markdown",
   "id": "b5d635c4",
   "metadata": {},
   "source": [
    "##### Answer\n",
    "> Exam performance."
   ]
  },
  {
   "cell_type": "markdown",
   "id": "48842bc4",
   "metadata": {},
   "source": [
    "b. How many factors are considered in this study? Identify them, and describe their levels."
   ]
  },
  {
   "cell_type": "markdown",
   "id": "b1b1db39",
   "metadata": {},
   "source": [
    "##### Answer\n",
    "> Light level (over-head lighting, yellow overhead lighting, no overhead lighting) and noise level (no noise, construction noise, and human chatter noise)."
   ]
  },
  {
   "cell_type": "markdown",
   "id": "1612fb2d",
   "metadata": {},
   "source": [
    "c. What is the role of the sex variable in this study?"
   ]
  },
  {
   "cell_type": "markdown",
   "id": "70b08741",
   "metadata": {},
   "source": [
    "##### Answer\n",
    "> Since the researchers want to ensure equal gender representation, sex will be a blocking variable."
   ]
  },
  {
   "cell_type": "markdown",
   "id": "70b607a9",
   "metadata": {},
   "source": [
    "#### 1.32 Music and learning.\n",
    "You would like to conduct an experiment in class to see if students learn better if they study without any music, with music that has no lyrics (instrumental), or with music that has lyrics. Briefly outline a design for this study."
   ]
  },
  {
   "cell_type": "markdown",
   "id": "03f89f59",
   "metadata": {},
   "source": [
    "##### Answer\n",
    "> The study will be experimental design, separated into 3 groups (no music, instrumental, and music with lyrics). Then after at the end of the study, the examp performance of each group is measured (before the study, after the study, comparative analysis between the groups)."
   ]
  },
  {
   "cell_type": "markdown",
   "id": "22169fa0",
   "metadata": {},
   "source": [
    "#### 1.33 Soda preference.\n",
    "You would like to conduct an experiment in class to see if your classmates prefer the taste of regular Coke or Diet Coke. Briefly outline a design for this study."
   ]
  },
  {
   "cell_type": "markdown",
   "id": "f543b70a",
   "metadata": {},
   "source": [
    "##### Answer\n",
    "> Need randomization and blinding. One possible outline:\n",
    "> 1. Prepare two cups for each participant, one containing regular Coke and the other containing Diet Coke. Make sure the cups are identical and contain equal amounts of soda. Label the cups A (regular) and B (diet). (Be sure to randomize A and B for each trial!)\n",
    "> 2. Give each participant the two cups, one cup at a time, in random order, and ask the participant to record a value that indicates how much she liked the beverage. Be sure that neither the participant nor the person handing out the cups knows the identity of the beverage to make this a double-blind experiment. (Answers may vary.)"
   ]
  },
  {
   "cell_type": "markdown",
   "id": "48166c35",
   "metadata": {},
   "source": [
    "#### 1.34 Exercise and mental health.\n",
    "A researcher is interested in the effects of exercise on mental health and he proposes the following study: Use stratified random sampling to ensure representative proportions of 18-30, 31-40 and 41- 55 year olds from the population. Next, randomly assign half the subjects from each age group to exercise twice a week, and instruct the rest not to exercise. Conduct a mental health exam at the beginning and at the end of the study, and compare the results."
   ]
  },
  {
   "cell_type": "markdown",
   "id": "59301b96",
   "metadata": {},
   "source": [
    "a. What type of study is this?"
   ]
  },
  {
   "cell_type": "markdown",
   "id": "d35af080",
   "metadata": {},
   "source": [
    "##### Answer\n",
    "> Experimental."
   ]
  },
  {
   "cell_type": "markdown",
   "id": "922ca48e",
   "metadata": {},
   "source": [
    "b. How many factors are considered in this study? Identify them, and describe their levels."
   ]
  },
  {
   "cell_type": "markdown",
   "id": "8dc55aa0",
   "metadata": {},
   "source": [
    "##### Answer\n",
    "> 2: age, exercise"
   ]
  },
  {
   "cell_type": "markdown",
   "id": "da472d13",
   "metadata": {},
   "source": [
    "c. What is the role of the sex variable in this study?"
   ]
  },
  {
   "cell_type": "markdown",
   "id": "edb35b66",
   "metadata": {},
   "source": [
    "##### Answer\n",
    "> None"
   ]
  },
  {
   "cell_type": "markdown",
   "id": "843146fe",
   "metadata": {},
   "source": [
    "d. Does this study make use of blinding?"
   ]
  },
  {
   "cell_type": "markdown",
   "id": "4706d5e7",
   "metadata": {},
   "source": [
    "##### Answer\n",
    "> No"
   ]
  },
  {
   "cell_type": "markdown",
   "id": "00d9da4c",
   "metadata": {},
   "source": [
    "e. Comment on whether or not the results of the study can be used to establish a causal relationship between exercise and mental health, and indicate whether or not the conclusions can be generalized to the population at large."
   ]
  },
  {
   "cell_type": "markdown",
   "id": "13fa97a8",
   "metadata": {},
   "source": [
    "##### Answer\n",
    "> It's possible that the study can be used to establish a causal relationship. The population has to be random to be able to be generalized."
   ]
  },
  {
   "cell_type": "markdown",
   "id": "cfb4efe4",
   "metadata": {},
   "source": [
    "f. Suppose you are given the task of determining if this proposed study should get funding. Would you have any reservations about the study proposal?"
   ]
  },
  {
   "cell_type": "markdown",
   "id": "9046cf0f",
   "metadata": {},
   "source": [
    "##### Answer\n",
    "> Since sex is not considered a blocking variable here, it should be proposed to be blocking to ensure gender representation."
   ]
  },
  {
   "attachments": {
    "table%201411.jpg": {
     "image/jpeg": "[encoded data removed]"
    }
   },
   "cell_type": "markdown",
   "id": "8bfc1f06",
   "metadata": {},
   "source": [
    "#### 1.35 Pet names.\n",
    "The city of Seattle, WA has an open data portal that includes pets registered in the city. For each registered pet, we have information on the pet's name and species. The following visualization plots the proportion of dogs with a given name versus the proportion of cats with the same name. The 20 most common cat and dog names are displayed. The diagonal line on the plot is the x = y line; if a name appeared on this line, the name's popularity would be exactly the same for dogs and cats.\n",
    "\n",
    "![table%201411.jpg](attachment:table%201411.jpg)"
   ]
  },
  {
   "cell_type": "markdown",
   "id": "1991aa78",
   "metadata": {},
   "source": [
    "a. Are these data collected as part of an experiment or an observational study?"
   ]
  },
  {
   "cell_type": "markdown",
   "id": "2e8c81d8",
   "metadata": {},
   "source": [
    "##### Answer\n",
    "> Observational study"
   ]
  },
  {
   "cell_type": "markdown",
   "id": "2ae783a8",
   "metadata": {},
   "source": [
    "b. What is the most common dog name? What is the most common cat name?"
   ]
  },
  {
   "cell_type": "markdown",
   "id": "d7692eba",
   "metadata": {},
   "source": [
    "##### Answer\n",
    "> Dog: Lucy\n",
    "\n",
    "> Cat: Luna"
   ]
  },
  {
   "cell_type": "markdown",
   "id": "ba12853d",
   "metadata": {},
   "source": [
    "c. What names are more common for cats than dogs?"
   ]
  },
  {
   "cell_type": "markdown",
   "id": "ae68ad16",
   "metadata": {},
   "source": [
    "##### Answer\n",
    "> Oliver and Lily"
   ]
  },
  {
   "cell_type": "markdown",
   "id": "4d959733",
   "metadata": {},
   "source": [
    "d. Is the relationship between the two variables positive or negative? What does this mean in context of the data?"
   ]
  },
  {
   "cell_type": "markdown",
   "id": "a65b1a6e",
   "metadata": {},
   "source": [
    "##### Answer\n",
    "> Positive, as the popu larity of a name for dogs increases, so does the popularity of that name for cats."
   ]
  },
  {
   "attachments": {},
   "cell_type": "markdown",
   "id": "6d932a67",
   "metadata": {},
   "source": [
    "#### 1.36 Stressed out, Part II.\n",
    "In a study evaluating the relationship between stress and muscle cramps, half the subjects are randomly assigned to be exposed to increased stress by being placed into an elevator that falls rapidly and stops abruptly and the other half are left at no or baseline stress."
   ]
  },
  {
   "cell_type": "markdown",
   "id": "ccce0c4f",
   "metadata": {},
   "source": [
    "a. What type of study is this?"
   ]
  },
  {
   "cell_type": "markdown",
   "id": "99663191",
   "metadata": {},
   "source": [
    "##### Answer\n",
    "> experimental"
   ]
  },
  {
   "cell_type": "markdown",
   "id": "ac1a9246",
   "metadata": {},
   "source": [
    "b. Can this study be used to conclude a causal relationship between increased stress and muscle cramps?"
   ]
  },
  {
   "cell_type": "markdown",
   "id": "a8401201",
   "metadata": {},
   "source": [
    "##### Answer\n",
    "> yes, becaue it's experimental and has placebo group."
   ]
  },
  {
   "attachments": {},
   "cell_type": "markdown",
   "id": "0370bc87",
   "metadata": {},
   "source": [
    "#### 1.37 Chia seeds and weight loss.\n",
    "Chia Pets - those terra-cotta figurines that sprout fuzzy green hair - made the chia plant a household name. But chia has gained an entirely new reputation as a diet supplement. In one 2009 study, a team of researchers recruited 38 men and divided them randomly into two groups: treatment or control. They also recruited 38 women, and they randomly placed half of these participants into the treatment group and the other half into the control group. One group was given 25 grams of chia seeds twice a day, and the other was given a placebo. The subjects volunteered to be a part of the study. After 12 weeks, the scientists found no significant difference between the groups in appetite or weight loss."
   ]
  },
  {
   "cell_type": "markdown",
   "id": "b6b50bdb",
   "metadata": {},
   "source": [
    "a. What type of study is this?"
   ]
  },
  {
   "cell_type": "markdown",
   "id": "c6ec77cc",
   "metadata": {},
   "source": [
    "##### Answer\n",
    "> Experiment."
   ]
  },
  {
   "cell_type": "markdown",
   "id": "efe486b7",
   "metadata": {},
   "source": [
    "b. What are the experimental and control treatments in this study?"
   ]
  },
  {
   "cell_type": "markdown",
   "id": "50103ed9",
   "metadata": {},
   "source": [
    "##### Answer\n",
    "> Treatment: 25 grams of chia seeds twice a day, control: placebo."
   ]
  },
  {
   "cell_type": "markdown",
   "id": "bc0dd3a9",
   "metadata": {},
   "source": [
    "c. Has blocking been used in this study? If so, what is the blocking variable?"
   ]
  },
  {
   "cell_type": "markdown",
   "id": "fa46ac65",
   "metadata": {},
   "source": [
    "##### Answer\n",
    "> Yes, gender."
   ]
  },
  {
   "cell_type": "markdown",
   "id": "c8703bbe",
   "metadata": {},
   "source": [
    "d. Has blinding been used in this study?"
   ]
  },
  {
   "cell_type": "markdown",
   "id": "8441720d",
   "metadata": {},
   "source": [
    "##### Answer\n",
    "> Yes, single blind since the patients were blinded to the treatment they received."
   ]
  },
  {
   "cell_type": "markdown",
   "id": "e9a84e76",
   "metadata": {},
   "source": [
    "e. Comment on whether or not we can make a causal statement, and indicate whether or not we can generalize the conclusion to the population at large."
   ]
  },
  {
   "cell_type": "markdown",
   "id": "f02e77c7",
   "metadata": {},
   "source": [
    "##### Answer\n",
    "> Since this is an experiment, we can make a causal statement. However, since the sample is not random, the causal statement cannot be generalized to the population at large."
   ]
  },
  {
   "attachments": {},
   "cell_type": "markdown",
   "id": "96df53db",
   "metadata": {},
   "source": [
    "#### 1.38 City council survey.\n",
    "A city council has requested a household survey be conducted in a suburban area of their city. The area is broken into many distinct and unique neighborhoods, some including large homes, some with only apartments, and others a diverse mixture of housing structures. For each part below, identify the sampling methods described, and describe the statistical pros and cons of the method in the city's context."
   ]
  },
  {
   "cell_type": "markdown",
   "id": "963ec123",
   "metadata": {},
   "source": [
    "a. Randomly sample 200 households from the city."
   ]
  },
  {
   "cell_type": "markdown",
   "id": "8c9cae74",
   "metadata": {},
   "source": [
    "##### Answer\n",
    "> Random sampling."
   ]
  },
  {
   "cell_type": "markdown",
   "id": "6d3dc1e4",
   "metadata": {},
   "source": [
    "b. Divide the city into 20 neighborhoods, and sample 10 households from each neighborhood."
   ]
  },
  {
   "cell_type": "markdown",
   "id": "43fe6351",
   "metadata": {},
   "source": [
    "##### Answer\n",
    "> Cluster sampling."
   ]
  },
  {
   "cell_type": "markdown",
   "id": "45552478",
   "metadata": {},
   "source": [
    "c. Divide the city into 20 neighborhoods, randomly sample 3 neighborhoods, and then sample all households from those 3 neighborhoods."
   ]
  },
  {
   "cell_type": "markdown",
   "id": "7c8d52a8",
   "metadata": {},
   "source": [
    "##### Answer\n",
    "> Stratified sampling."
   ]
  },
  {
   "cell_type": "markdown",
   "id": "0fa72e8b",
   "metadata": {},
   "source": [
    "d. Divide the city into 20 neighborhoods, randomly sample 8 neighborhoods, and then randomly sample 50 households from those neighborhoods."
   ]
  },
  {
   "cell_type": "markdown",
   "id": "537d4b42",
   "metadata": {},
   "source": [
    "##### Answer\n",
    "> Multistage sampling."
   ]
  },
  {
   "cell_type": "markdown",
   "id": "e9eeeab0",
   "metadata": {},
   "source": [
    "e. Sample the 200 households closest to the city council offices."
   ]
  },
  {
   "cell_type": "markdown",
   "id": "d13bc411",
   "metadata": {},
   "source": [
    "##### Answer\n",
    "> Convenience sample."
   ]
  },
  {
   "attachments": {},
   "cell_type": "markdown",
   "id": "232fa856",
   "metadata": {},
   "source": [
    "#### 1.39 Flawed reasoning.\n",
    "Identify the flaw(s) in reasoning in the following scenarios. Explain what the individuals in the study should have done differently if they wanted to make such strong conclusions."
   ]
  },
  {
   "cell_type": "markdown",
   "id": "07867015",
   "metadata": {},
   "source": [
    "a. Students at an elementary school are given a questionnaire that they are asked to return after their parents have completed it. One of the questions asked is, \"Do you find that your work schedule makes it difficult for you to spend time with your kids after school?\" Of the parents who replied, 85% said \"no\". Based on these results, the school officials conclude that a great majority of the parents have no diffculty spending time with their kids after school."
   ]
  },
  {
   "cell_type": "markdown",
   "id": "ea2ac3e9",
   "metadata": {},
   "source": [
    "##### Answer\n",
    "> Non-responders may have a different response to this question, e.g. parents who returned the surveys likely don't have difficulty spending time with their children."
   ]
  },
  {
   "cell_type": "markdown",
   "id": "5864220d",
   "metadata": {},
   "source": [
    "b. A survey is conducted on a simple random sample of 1,000 women who recently gave birth, asking them about whether or not they smoked during pregnancy. A follow-up survey asking if the children have respiratory problems is conducted 3 years later. However, only 567 of these women are reached at the same address. The researcher reports that these 567 women are representative of all mothers."
   ]
  },
  {
   "cell_type": "markdown",
   "id": "61632fff",
   "metadata": {},
   "source": [
    "##### Answer\n",
    "> It is unlikely that the women who were reached at the same address 3 years later are a random sample. These missing responders are probably renters (as opposed to homeowners) which means that they might be in a lower socio-economic status than the respondents."
   ]
  },
  {
   "cell_type": "markdown",
   "id": "95c76aa9",
   "metadata": {},
   "source": [
    "c. An orthopedist administers a questionnaire to 30 of his patients who do not have any joint problems and finds that 20 of them regularly go running. He concludes that running decreases the risk of joint problems."
   ]
  },
  {
   "cell_type": "markdown",
   "id": "f381368a",
   "metadata": {},
   "source": [
    "##### Answer\n",
    "> There is no control group in this study, this is an observational study, and there may be confounding variables, e.g. these\n",
    "people may go running because they are generally healthier and/ or do other exercises."
   ]
  },
  {
   "attachments": {
    "table%201421.jpg": {
     "image/jpeg": "[encoded data removed]"
    }
   },
   "cell_type": "markdown",
   "id": "4b4502f4",
   "metadata": {},
   "source": [
    "#### 1.40 Income and education in US counties.\n",
    "The scatterplot below shows the relationship between per capita income (in thousands of dollars) and percent of population with a bachelor's degree in 3,143 counties in the US in 2010.\n",
    "![table%201421.jpg](attachment:table%201421.jpg)"
   ]
  },
  {
   "cell_type": "markdown",
   "id": "61f192d1",
   "metadata": {},
   "source": [
    "a. What are the explanatory and response variables?"
   ]
  },
  {
   "cell_type": "markdown",
   "id": "00e085fa",
   "metadata": {},
   "source": [
    "##### Answer\n",
    "> Explanatory: per capita income\n",
    "\n",
    "> Response: bachelor's degree %"
   ]
  },
  {
   "cell_type": "markdown",
   "id": "426e110d",
   "metadata": {},
   "source": [
    "b. Describe the relationship between the two variables. Make sure to discuss unusual observations, if any."
   ]
  },
  {
   "cell_type": "markdown",
   "id": "b6ec4641",
   "metadata": {},
   "source": [
    "##### Answer\n",
    "> Positive linear correlation."
   ]
  },
  {
   "cell_type": "markdown",
   "id": "02aacc42",
   "metadata": {},
   "source": [
    "c. Can we conclude that having a bachelor's degree increases one's income?"
   ]
  },
  {
   "cell_type": "markdown",
   "id": "85cbd9f7",
   "metadata": {},
   "source": [
    "##### Answer\n",
    "> It is possible as correlation does not mean causation and this is not a time-series data."
   ]
  },
  {
   "attachments": {},
   "cell_type": "markdown",
   "id": "a71286f1",
   "metadata": {},
   "source": [
    "#### 1.41 Eat better, feel better?\n",
    "In a public health study on the effects of consumption of fruits and vegetables on psychological well-being in young adults, participants were randomly assigned to three groups:\n",
    "1. Diet-as-usual\n",
    "2. An ecological momentary intervention involving text message reminders to increase their fruits and vegetable consumption plus a voucher to purchase them, or\n",
    "3. a fruit and vegetable intervention in which participants were given two additional daily servings of fresh fruits and vegetables to consume on top of their normal diet.\n",
    "\n",
    "Participants were asked to take a nightly survey on their smartphones. Participants were student volunteers at the University of Otago, New Zealand. At the end of the 14-day study, only participants in the third group showed improvements to their psychological well-being across the 14-days relative to the other groups."
   ]
  },
  {
   "cell_type": "markdown",
   "id": "400bd1b5",
   "metadata": {},
   "source": [
    "a. What type of study is this?"
   ]
  },
  {
   "cell_type": "markdown",
   "id": "d700acef",
   "metadata": {},
   "source": [
    "##### Answer\n",
    "> Randomized controlled experiment."
   ]
  },
  {
   "cell_type": "markdown",
   "id": "b6fd83b7",
   "metadata": {},
   "source": [
    "b. Identify the explanatory and response variables."
   ]
  },
  {
   "cell_type": "markdown",
   "id": "298947d1",
   "metadata": {},
   "source": [
    "##### Answer\n",
    "> Explanatory: treatment group (categorical, with 3 levels)\n",
    "\n",
    "> Response variable: Psychological well-being"
   ]
  },
  {
   "cell_type": "markdown",
   "id": "53643bd2",
   "metadata": {},
   "source": [
    "c. Comment on whether the results of the study can be generalized to the population."
   ]
  },
  {
   "cell_type": "markdown",
   "id": "78571368",
   "metadata": {},
   "source": [
    "##### Answer\n",
    "> No, because the participants were volunteers."
   ]
  },
  {
   "cell_type": "markdown",
   "id": "abe2f9fd",
   "metadata": {},
   "source": [
    "d. Comment on whether the results of the study can be used to establish causal relationships."
   ]
  },
  {
   "cell_type": "markdown",
   "id": "13599c2a",
   "metadata": {},
   "source": [
    "##### Answer\n",
    "> Yes, because it was an experiment."
   ]
  },
  {
   "cell_type": "markdown",
   "id": "3a255b1e",
   "metadata": {},
   "source": [
    "e. A newspaper article reporting on the study states, \"The results of this study provide proof that giving young adults fresh fruits and vegetables to eat can have psychological benefits, even over a brief period of time.\" How would you suggest revising this statement so that it can be supported by the study?"
   ]
  },
  {
   "cell_type": "markdown",
   "id": "9b175d07",
   "metadata": {},
   "source": [
    "##### Answer\n",
    "> The statement should say \"evidence\" instead of \"proof\"."
   ]
  },
  {
   "attachments": {},
   "cell_type": "markdown",
   "id": "d9cba3bb",
   "metadata": {},
   "source": [
    "#### 1.42 Screens, teens, and psychological well-being.\n",
    "In a study of three nationally representative large-scale data sets from Ireland, the United States, and the United Kingdom (n = 17,247), teenagers between the ages of 12 to 15 were asked to keep a diary of their screen time and answer questions about how they felt or acted. The answers to these questions were then used to compute a psychological well-being score. Additional data were collected and included in the analysis, such as each child's sex and age, and on the mother's education, ethnicity, psychological distress, and employment. The study concluded that there is little clear-cut evidence that screen time decreases adolescent well-being."
   ]
  },
  {
   "cell_type": "markdown",
   "id": "60c6ac07",
   "metadata": {},
   "source": [
    "a. What type of study is this?"
   ]
  },
  {
   "cell_type": "markdown",
   "id": "c572b0c4",
   "metadata": {},
   "source": [
    "##### Answer\n",
    "> Observational study."
   ]
  },
  {
   "cell_type": "markdown",
   "id": "bfb97c80",
   "metadata": {},
   "source": [
    "b. Identify the explanatory variables."
   ]
  },
  {
   "cell_type": "markdown",
   "id": "e162d399",
   "metadata": {},
   "source": [
    "##### Answer\n",
    "> Screen time"
   ]
  },
  {
   "cell_type": "markdown",
   "id": "9f346bd5",
   "metadata": {},
   "source": [
    "c. Identify the response variable."
   ]
  },
  {
   "cell_type": "markdown",
   "id": "d383eaf3",
   "metadata": {},
   "source": [
    "##### Answer\n",
    "> Psychological well-being score."
   ]
  },
  {
   "cell_type": "markdown",
   "id": "4f0d0dc2",
   "metadata": {},
   "source": [
    "d. Comment on whether the results of the study can be generalized to the population, and why."
   ]
  },
  {
   "cell_type": "markdown",
   "id": "79f54654",
   "metadata": {},
   "source": [
    "##### Answer\n",
    "> Yes because the sample is nationally representative of teenagers aged 12 to 15."
   ]
  },
  {
   "cell_type": "markdown",
   "id": "a71db2b0",
   "metadata": {},
   "source": [
    "e. Comment on whether the results of the study can be used to establish causal relationships."
   ]
  },
  {
   "cell_type": "markdown",
   "id": "cfcb8120",
   "metadata": {},
   "source": [
    "##### Answer\n",
    "> No, because there might other factors that contribute to the psychological well-being such as parents who are more neglectful cause kids to have more screen time."
   ]
  },
  {
   "attachments": {
    "table%201431.jpg": {
     "image/jpeg": "[encoded data removed]"
    }
   },
   "cell_type": "markdown",
   "id": "63a55280",
   "metadata": {},
   "source": [
    "#### 1.43 Stanford Open Policing.\n",
    "The Stanford Open Policing project gathers, analyzes, and releases records from traffic stops by law enforcement agencies across the United States. Their goal is to help researchers, journalists, and policymakers investigate and improve interactions between police and the public. The following is an excerpt from a summary table created based of of the data collected as part of this project.\n",
    "\n",
    "![table%201431.jpg](attachment:table%201431.jpg)"
   ]
  },
  {
   "cell_type": "markdown",
   "id": "4df6dbbf",
   "metadata": {},
   "source": [
    "a. What variables were collected on each individual traffic stop in order to create to the summary table above?"
   ]
  },
  {
   "cell_type": "markdown",
   "id": "6d198c90",
   "metadata": {},
   "source": [
    "##### Answer\n",
    "> County, state, driver's race, whether the car was searched or not, and whether the driver was arrested or not."
   ]
  },
  {
   "cell_type": "markdown",
   "id": "d9e0bc05",
   "metadata": {},
   "source": [
    "b. State whether each variable is numerical or categorical. If numerical, state whether it is continuous or discrete. If categorical, state whether it is ordinal or not."
   ]
  },
  {
   "cell_type": "markdown",
   "id": "24004f73",
   "metadata": {},
   "source": [
    "##### Answer\n",
    "> All categorical, non-ordinal."
   ]
  },
  {
   "cell_type": "markdown",
   "id": "b7ceba23",
   "metadata": {},
   "source": [
    "c. Suppose we wanted to evaluate whether vehicle search rates are different for drivers of different races. In this analysis, which variable would be the response variable and which variable would be the explanatory variable?"
   ]
  },
  {
   "cell_type": "markdown",
   "id": "97bfb152",
   "metadata": {},
   "source": [
    "##### Answer\n",
    "> Response: whether the car was searched or not.\n",
    "\n",
    "> Explanatory: race of the driver."
   ]
  },
  {
   "attachments": {
    "table%201441.jpg": {
     "image/jpeg": "[encoded data removed]"
    }
   },
   "cell_type": "markdown",
   "id": "12e58836",
   "metadata": {},
   "source": [
    "#### 1.44 Space launches.\n",
    "The following summary table shows the number of space launches in the US by the type of launching agency and the outcome of the launch (success or failure).\n",
    "\n",
    "![table%201441.jpg](attachment:table%201441.jpg)"
   ]
  },
  {
   "cell_type": "markdown",
   "id": "292fd2da",
   "metadata": {},
   "source": [
    "a. What variables were collected on each launch in order to create to the summary table above?"
   ]
  },
  {
   "cell_type": "markdown",
   "id": "b6980cb0",
   "metadata": {},
   "source": [
    "##### Answer\n",
    "> year, private fail, private success, state fail, state success, startup failure, startup success"
   ]
  },
  {
   "cell_type": "markdown",
   "id": "9399b698",
   "metadata": {},
   "source": [
    "b. State whether each variable is numerical or categorical. If numerical, state whether it is continuous or discrete. If categorical, state whether it is ordinal or not."
   ]
  },
  {
   "cell_type": "markdown",
   "id": "cad5c175",
   "metadata": {},
   "source": [
    "##### Answer\n",
    "> Year - numerical discrete\n",
    "\n",
    "> Private, state, startup - categorical non-ordinal (Failure/ Success)"
   ]
  },
  {
   "cell_type": "markdown",
   "id": "56d685e2",
   "metadata": {},
   "source": [
    "c. Suppose we wanted to study how the success rate of launches vary between launching agencies and over time. In this analysis, which variable would be the response variable and which variable would be the explanatory variable?"
   ]
  },
  {
   "cell_type": "markdown",
   "id": "45e6d759",
   "metadata": {},
   "source": [
    "##### Answer\n",
    "> Explanatory: year\n",
    "\n",
    "> Response: launching agencies' success"
   ]
  }
 ],
 "metadata": {
  "kernelspec": {
   "display_name": "Python 3 (ipykernel)",
   "language": "python",
   "name": "python3"
  },
  "language_info": {
   "codemirror_mode": {
    "name": "ipython",
    "version": 3
   },
   "file_extension": ".py",
   "mimetype": "text/x-python",
   "name": "python",
   "nbconvert_exporter": "python",
   "pygments_lexer": "ipython3",
   "version": "3.9.0"
  }
 },
 "nbformat": 4,
 "nbformat_minor": 5
}
