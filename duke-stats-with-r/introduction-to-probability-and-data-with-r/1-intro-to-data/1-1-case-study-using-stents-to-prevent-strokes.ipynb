{
 "cells": [
  {
   "cell_type": "code",
   "execution_count": 92,
   "id": "a121cae2",
   "metadata": {},
   "outputs": [],
   "source": [
    "import pandas as pd\n",
    "import numpy as np"
   ]
  },
  {
   "attachments": {
    "table%20111.jpg": {
     "image/jpeg": "[encoded data removed]"
    }
   },
   "cell_type": "markdown",
   "id": "a6844fcc",
   "metadata": {},
   "source": [
    "OpenIntro Statistics, 4th edition\n",
    "\n",
    "End of chapter exercises in Chapter 1: 1.1\n",
    "### 1.1. CASE STUDY: USING STENTS TO PREVENT STROKES\n",
    "#### 1.1 Migraine and acupuncture, Part I.\n",
    "A migraine is a particularly painful type of headache, which patients sometimes wish to treat with acupuncture. To determine whether acupuncture relieves migraine pain, researchers conducted a randomized controlled study where 89 females diagnosed with migraine headaches were randomly assigned to one of two groups: treatment or control. 43 patients in the treatment group received acupuncture that is specifically designed to treat migraines. 46 patients in the control group received placebo acupuncture (needle insertion at non-acupoint locations). 24 hours after patients received acupuncture, they were asked if they were pain free. Results are summarized in the contingency table below.\n",
    "<style type=\"text/css\">\n",
    ".tg  {border-collapse:collapse;border-spacing:0;}\n",
    ".tg td{border-color:black;border-style:solid;border-width:1px;font-family:Arial, sans-serif;font-size:14px;\n",
    "  overflow:hidden;padding:10px 5px;word-break:normal;}\n",
    ".tg th{border-color:black;border-style:solid;border-width:1px;font-family:Arial, sans-serif;font-size:14px;\n",
    "  font-weight:normal;overflow:hidden;padding:10px 5px;word-break:normal;}\n",
    ".tg .tg-c3ow{border-color:inherit;text-align:center;vertical-align:top}\n",
    ".tg .tg-0pky{border-color:inherit;text-align:left;vertical-align:top}\n",
    ".tg .tg-fymr{border-color:inherit;font-weight:bold;text-align:left;vertical-align:top}\n",
    ".tg .tg-7btt{border-color:inherit;font-weight:bold;text-align:center;vertical-align:top}\n",
    "</style>\n",
    "<table class=\"tg\">\n",
    "<thead>\n",
    "  <tr>\n",
    "    <th class=\"tg-0pky\"></th>\n",
    "    <th class=\"tg-0pky\"></th>\n",
    "    <th class=\"tg-fymr\" colspan=\"2\">Pain Free</th>\n",
    "    <th class=\"tg-0pky\"></th>\n",
    "  </tr>\n",
    "</thead>\n",
    "<tbody>\n",
    "  <tr>\n",
    "    <td class=\"tg-0pky\"></td>\n",
    "    <td class=\"tg-0pky\"></td>\n",
    "    <td class=\"tg-fymr\">Yes</td>\n",
    "    <td class=\"tg-fymr\">No</td>\n",
    "    <td class=\"tg-fymr\">Total</td>\n",
    "  </tr>\n",
    "  <tr>\n",
    "    <td class=\"tg-7btt\" rowspan=\"2\">Group</td>\n",
    "    <td class=\"tg-fymr\">Treatment</td>\n",
    "    <td class=\"tg-c3ow\">10</td>\n",
    "    <td class=\"tg-c3ow\">33</td>\n",
    "    <td class=\"tg-7btt\">43</td>\n",
    "  </tr>\n",
    "  <tr>\n",
    "    <td class=\"tg-fymr\">Control</td>\n",
    "    <td class=\"tg-c3ow\">2</td>\n",
    "    <td class=\"tg-c3ow\">44</td>\n",
    "    <td class=\"tg-7btt\">46</td>\n",
    "  </tr>\n",
    "  <tr>\n",
    "    <td class=\"tg-0pky\"></td>\n",
    "    <td class=\"tg-fymr\">Total</td>\n",
    "    <td class=\"tg-7btt\">12</td>\n",
    "    <td class=\"tg-7btt\">77</td>\n",
    "    <td class=\"tg-7btt\">89</td>\n",
    "  </tr>\n",
    "</tbody>\n",
    "</table>\n",
    "\n",
    "![table%20111.jpg](attachment:table%20111.jpg)"
   ]
  },
  {
   "cell_type": "code",
   "execution_count": 98,
   "id": "bd75a2f6",
   "metadata": {},
   "outputs": [
    {
     "data": {
      "text/html": [
       "<style type=\"text/css\">\n",
       "#T_06119_ th {\n",
       "  text-align: center;\n",
       "}\n",
       "#T_06119_row0_col0, #T_06119_row0_col1, #T_06119_row0_col2, #T_06119_row0_col3 {\n",
       "  text-align: center;\n",
       "}\n",
       "</style>\n",
       "<table id=\"T_06119_\">\n",
       "  <thead>\n",
       "    <tr>\n",
       "      <th class=\"col_heading level0 col0\" >Treated Pain</th>\n",
       "      <th class=\"col_heading level0 col1\" >Control Pain</th>\n",
       "      <th class=\"col_heading level0 col2\" >Treatment No Pain</th>\n",
       "      <th class=\"col_heading level0 col3\" >Control No Pain</th>\n",
       "    </tr>\n",
       "  </thead>\n",
       "  <tbody>\n",
       "    <tr>\n",
       "      <td id=\"T_06119_row0_col0\" class=\"data row0 col0\" >33</td>\n",
       "      <td id=\"T_06119_row0_col1\" class=\"data row0 col1\" >44</td>\n",
       "      <td id=\"T_06119_row0_col2\" class=\"data row0 col2\" >10</td>\n",
       "      <td id=\"T_06119_row0_col3\" class=\"data row0 col3\" >2</td>\n",
       "    </tr>\n",
       "  </tbody>\n",
       "</table>\n"
      ],
      "text/plain": [
       "<pandas.io.formats.style.Styler at 0x222615f9a90>"
      ]
     },
     "execution_count": 98,
     "metadata": {},
     "output_type": "execute_result"
    }
   ],
   "source": [
    "table_col = ['Treated Pain', 'Control Pain', 'Treatment No Pain', 'Control No Pain']\n",
    "\n",
    "pain_treatment = 33\n",
    "pain_control = 44\n",
    "nopain_treatment = 10\n",
    "nopain_control = 2\n",
    "\n",
    "acupuncture = np.array([[pain_treatment, pain_control, nopain_treatment, nopain_control]])\n",
    "acupuncture = pd.DataFrame(acupuncture, columns = table_col)\n",
    "acupuncture_centered = acupuncture.style.set_table_styles([dict(selector='th', props=[('text-align', 'center')])])\n",
    "acupuncture_centered.set_properties(**{'text-align': 'center'}).hide_index()\n",
    "\n",
    "acupuncture_centered"
   ]
  },
  {
   "cell_type": "markdown",
   "id": "f2ed94db",
   "metadata": {},
   "source": [
    "a. What percent of patients in the treatment group were pain free 24 hours after receiving acupuncture?"
   ]
  },
  {
   "cell_type": "code",
   "execution_count": 89,
   "id": "e97458ee",
   "metadata": {},
   "outputs": [
    {
     "name": "stdout",
     "output_type": "stream",
     "text": [
      "23.26%\n"
     ]
    }
   ],
   "source": [
    "percent_treated_painfree = round(((nopain_treatment/ (nopain_treatment + pain_treatment)) * 100), 2)\n",
    "print(f\"{percent_treated_painfree}%\")"
   ]
  },
  {
   "cell_type": "markdown",
   "id": "2988ca05",
   "metadata": {},
   "source": [
    "b. What percent were pain free in the control group?"
   ]
  },
  {
   "cell_type": "code",
   "execution_count": 90,
   "id": "b1e780cf",
   "metadata": {},
   "outputs": [
    {
     "name": "stdout",
     "output_type": "stream",
     "text": [
      "4.35%\n"
     ]
    }
   ],
   "source": [
    "percent_control_painfree = round(((nopain_control/ (nopain_control + pain_control)) * 100), 2)\n",
    "print(f\"{percent_control_painfree}%\")"
   ]
  },
  {
   "cell_type": "markdown",
   "id": "40a272db",
   "metadata": {},
   "source": [
    "c. In which group did a higher percent of patients become pain free 24 hours after receiving acupuncture?"
   ]
  },
  {
   "cell_type": "code",
   "execution_count": 93,
   "id": "b0d7d865",
   "metadata": {},
   "outputs": [
    {
     "name": "stdout",
     "output_type": "stream",
     "text": [
      "Treated Group has/ have the higher percent of patients that become pain free 24 hours after receiving acupuncture.\n"
     ]
    }
   ],
   "source": [
    "if percent_treated_painfree > percent_control_painfree:\n",
    "    most_painfree = \"Treated Group\"\n",
    "elif percent_treated_painfree < percent_control_painfree:\n",
    "    most_painfree = \"Control Group\"\n",
    "else:\n",
    "    most_painfree = \"Both groups\"\n",
    "    \n",
    "print(f\"{most_painfree} has/ have the higher percent of patients that become pain free 24 hours after receiving acupuncture.\")"
   ]
  },
  {
   "cell_type": "markdown",
   "id": "cbc728b2",
   "metadata": {},
   "source": [
    "d. Your findings so far might suggest that acupuncture is an effective treatment for migraines for all people who suffer from migraines. However this is not the only possible conclusion that can be drawn based on your findings so far. What is one other possible explanation for the observed difference between the percentages of patients that are pain free 24 hours after receiving acupuncture in the two groups?"
   ]
  },
  {
   "cell_type": "markdown",
   "id": "70db6755",
   "metadata": {},
   "source": [
    "##### Answer\n",
    "In terms of % the dfferences might be significant however the number of people with no pain is only 8 people difference. It is possible that the treatment might actually have no effect and the patients were cured on their own."
   ]
  },
  {
   "attachments": {},
   "cell_type": "markdown",
   "id": "d23440ed",
   "metadata": {},
   "source": [
    "#### 1.2 Sinusitis and antibiotics, Part I.\n",
    "Researchers studying the effect of antibiotic treatment for acute sinusitis compared to symptomatic treatments randomly assigned 166 adults diagnosed with acute sinusitis to one of two groups: treatment or control. Study participants received either a 10-day course of amoxicillin (an antibiotic) or a placebo similar in appearance and taste. The placebo consisted of symptomatic treatments such as acetaminophen, nasal decongestants, etc. At the end of the 10-day period, patients were asked if they experienced improvement in symptoms. The distribution of responses is summarized below.\n",
    "\n",
    "<table>\n",
    "<thead>\n",
    "  <tr>\n",
    "    <th></th>\n",
    "    <th></th>\n",
    "    <th colspan=\"2\">Self Reported Improvement<br>in Symptoms</th>\n",
    "    <th></th>\n",
    "  </tr>\n",
    "</thead>\n",
    "<tbody>\n",
    "  <tr>\n",
    "    <td></td>\n",
    "    <td></td>\n",
    "    <td>Yes</td>\n",
    "    <td>No</td>\n",
    "    <td>Total</td>\n",
    "  </tr>\n",
    "  <tr>\n",
    "    <td rowspan=\"2\">Group</td>\n",
    "    <td>Treatment</td>\n",
    "    <td>66</td>\n",
    "    <td>19</td>\n",
    "    <td>85</td>\n",
    "  </tr>\n",
    "  <tr>\n",
    "    <td>Control</td>\n",
    "    <td>65</td>\n",
    "    <td>16</td>\n",
    "    <td>81</td>\n",
    "  </tr>\n",
    "  <tr>\n",
    "    <td></td>\n",
    "    <td>Total</td>\n",
    "    <td>131</td>\n",
    "    <td>35</td>\n",
    "    <td>166</td>\n",
    "  </tr>\n",
    "</tbody>\n",
    "</table>"
   ]
  },
  {
   "cell_type": "code",
   "execution_count": 99,
   "id": "a62e7372",
   "metadata": {},
   "outputs": [
    {
     "data": {
      "text/html": [
       "<style type=\"text/css\">\n",
       "#T_998f7_ th {\n",
       "  text-align: center;\n",
       "}\n",
       "#T_998f7_row0_col0, #T_998f7_row0_col1, #T_998f7_row0_col2, #T_998f7_row0_col3 {\n",
       "  text-align: center;\n",
       "}\n",
       "</style>\n",
       "<table id=\"T_998f7_\">\n",
       "  <thead>\n",
       "    <tr>\n",
       "      <th class=\"col_heading level0 col0\" >Treated Improved</th>\n",
       "      <th class=\"col_heading level0 col1\" >Treated No Improvement</th>\n",
       "      <th class=\"col_heading level0 col2\" >Control Improved</th>\n",
       "      <th class=\"col_heading level0 col3\" >Control No Improvement</th>\n",
       "    </tr>\n",
       "  </thead>\n",
       "  <tbody>\n",
       "    <tr>\n",
       "      <td id=\"T_998f7_row0_col0\" class=\"data row0 col0\" >66</td>\n",
       "      <td id=\"T_998f7_row0_col1\" class=\"data row0 col1\" >19</td>\n",
       "      <td id=\"T_998f7_row0_col2\" class=\"data row0 col2\" >65</td>\n",
       "      <td id=\"T_998f7_row0_col3\" class=\"data row0 col3\" >16</td>\n",
       "    </tr>\n",
       "  </tbody>\n",
       "</table>\n"
      ],
      "text/plain": [
       "<pandas.io.formats.style.Styler at 0x222615ff790>"
      ]
     },
     "execution_count": 99,
     "metadata": {},
     "output_type": "execute_result"
    }
   ],
   "source": [
    "table_col = ['Treated Improved', 'Treated No Improvement', 'Control Improved', 'Control No Improvement']\n",
    "\n",
    "improved_treatment = 66\n",
    "noimproved_treatment = 19\n",
    "improved_control = 65\n",
    "noimproved_control = 16\n",
    "\n",
    "sinus_antibiotics = np.array([[improved_treatment, noimproved_treatment, improved_control, noimproved_control]])\n",
    "sinus_antibiotics = pd.DataFrame(sinus_antibiotics, columns = table_col)\n",
    "sinus_antibiotics_centered = sinus_antibiotics.style.set_table_styles([dict(selector='th', props=[('text-align', 'center')])])\n",
    "sinus_antibiotics_centered.set_properties(**{'text-align': 'center'}).hide_index()\n",
    "\n",
    "sinus_antibiotics_centered"
   ]
  },
  {
   "cell_type": "markdown",
   "id": "ad9aa949",
   "metadata": {},
   "source": [
    "a. What percent of patients in the treatment group experienced improvement in symptoms?"
   ]
  },
  {
   "cell_type": "code",
   "execution_count": 101,
   "id": "2e3a2ad5",
   "metadata": {},
   "outputs": [
    {
     "name": "stdout",
     "output_type": "stream",
     "text": [
      "77.65%\n"
     ]
    }
   ],
   "source": [
    "percent_treated_improved = round(((improved_treatment/ (improved_treatment + noimproved_treatment)) * 100), 2)\n",
    "print(f\"{percent_treated_improved}%\")"
   ]
  },
  {
   "cell_type": "markdown",
   "id": "c0e11a63",
   "metadata": {},
   "source": [
    "b. What percent experienced improvement in symptoms in the control group?"
   ]
  },
  {
   "cell_type": "code",
   "execution_count": 102,
   "id": "6dfef510",
   "metadata": {},
   "outputs": [
    {
     "name": "stdout",
     "output_type": "stream",
     "text": [
      "80.25%\n"
     ]
    }
   ],
   "source": [
    "percent_control_improved = round(((improved_control/ (improved_control + noimproved_control)) * 100), 2)\n",
    "print(f\"{percent_control_improved}%\")"
   ]
  },
  {
   "cell_type": "markdown",
   "id": "cd68e817",
   "metadata": {},
   "source": [
    "c. In which group did a higher percentage of patients experience improvement in symptoms?"
   ]
  },
  {
   "cell_type": "code",
   "execution_count": 103,
   "id": "52f995a5",
   "metadata": {},
   "outputs": [
    {
     "name": "stdout",
     "output_type": "stream",
     "text": [
      "Control Group has/ have the higher percentage of patients experience improvement in symptoms.\n"
     ]
    }
   ],
   "source": [
    "if percent_treated_improved > percent_control_improved:\n",
    "    most_improved = \"Treated Group\"\n",
    "elif percent_treated_improved < percent_control_improved:\n",
    "    most_improved = \"Control Group\"\n",
    "else:\n",
    "    most_improved = \"Both groups\"\n",
    "    \n",
    "print(f\"{most_improved} has/ have the higher percentage of patients experience improvement in symptoms.\")"
   ]
  },
  {
   "cell_type": "markdown",
   "id": "66e26230",
   "metadata": {},
   "source": [
    "d. Your findings so far might suggest a real difference in effectiveness of antibiotic and placebo treatments for improving symptoms of sinusitis. However, this is not the only possible conclusion that can be drawn based on your findings so far. What is one other possible explanation for the observed difference between the percentages of patients in the antibiotic and placebo treatment groups that experience improvement in symptoms of sinusitis?"
   ]
  },
  {
   "cell_type": "markdown",
   "id": "2a194b2e",
   "metadata": {},
   "source": [
    "##### Answer\n",
    "In terms of % and the number of patients with improved symptoms, the results suggest that the antibiotics might not actually have any effects because the differences are not significant."
   ]
  }
 ],
 "metadata": {
  "kernelspec": {
   "display_name": "Python 3 (ipykernel)",
   "language": "python",
   "name": "python3"
  },
  "language_info": {
   "codemirror_mode": {
    "name": "ipython",
    "version": 3
   },
   "file_extension": ".py",
   "mimetype": "text/x-python",
   "name": "python",
   "nbconvert_exporter": "python",
   "pygments_lexer": "ipython3",
   "version": "3.9.0"
  }
 },
 "nbformat": 4,
 "nbformat_minor": 5
}
