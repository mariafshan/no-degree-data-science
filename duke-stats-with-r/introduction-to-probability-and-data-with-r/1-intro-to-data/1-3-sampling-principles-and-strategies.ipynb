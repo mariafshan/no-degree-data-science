{
 "cells": [
  {
   "cell_type": "markdown",
   "id": "a6844fcc",
   "metadata": {},
   "source": [
    "OpenIntro Statistics, 4th edition\n",
    "\n",
    "End of chapter exercises in Chapter 1: 1.3\n",
    "### 1.3. SAMPLING PRINCIPLES AND STRATEGIES"
   ]
  },
  {
   "cell_type": "markdown",
   "id": "fe1e2427",
   "metadata": {},
   "source": [
    "#### 1.13 Air pollution and birth outcomes, scope of inference.\n",
    "Exercise 1.3 introduces a study where researchers collected data to examine the relationship between air pollutants and preterm births in Southern California. During the study air pollution levels were measured by air quality monitoring stations. Length of gestation data were collected on 143,196 births between the years 1989 and 1993, and air pollution exposure during gestation was calculated for each birth."
   ]
  },
  {
   "cell_type": "markdown",
   "id": "f2ed94db",
   "metadata": {},
   "source": [
    "a. Identify the population of interest and the sample in this study."
   ]
  },
  {
   "cell_type": "markdown",
   "id": "5e545ec8",
   "metadata": {},
   "source": [
    "##### Answer\n",
    "> Population: all births, sample: 143,196 births between 1989 and 1993 in Southern California."
   ]
  },
  {
   "cell_type": "markdown",
   "id": "47579dc8",
   "metadata": {},
   "source": [
    "b. Comment on whether or not the results of the study can be generalized to the population, and if the findings of the study can be used to establish causal relationships."
   ]
  },
  {
   "cell_type": "markdown",
   "id": "c318d7eb",
   "metadata": {},
   "source": [
    "##### Answer\n",
    "> If births in this time span at the geography can be considered to be representative of all births, then the results are generalizable to the population of Southern California. However, since the study is observational the findings cannot be used to establish causal relationships."
   ]
  },
  {
   "cell_type": "markdown",
   "id": "75af717a",
   "metadata": {},
   "source": [
    "#### 1.14 Cheaters, scope of inference.\n",
    "Exercise 1.5 introduces a study where researchers studying the relationship between honesty, age, and self-control conducted an experiment on 160 children between the ages of 5 and 15. The researchers asked each child to toss a fair coin in private and to record the outcome (white or black) on a paper sheet, and said they would only reward children who report white. Half the students were explicitly told not to cheat and the others were not given any explicit instructions. Differences were observed in the cheating rates in the instruction"
   ]
  },
  {
   "cell_type": "markdown",
   "id": "edf15015",
   "metadata": {},
   "source": [
    "a. Identify the population of interest and the sample in this study."
   ]
  },
  {
   "cell_type": "markdown",
   "id": "8aa236f0",
   "metadata": {},
   "source": [
    "##### Answer\n",
    ">  160 children between the ages of 5 and 15."
   ]
  },
  {
   "cell_type": "markdown",
   "id": "dd498ed3",
   "metadata": {},
   "source": [
    "b. Comment on whether or not the results of the study can be generalized to the population, and if the findings of the study can be used to establish causal relationships."
   ]
  },
  {
   "cell_type": "markdown",
   "id": "47160bb6",
   "metadata": {},
   "source": [
    "##### Answer\n",
    "> If the children are randomly then the study can be generalized to the population. Because this is an experiment with controlled varable so the study can be used to establish causal relationships."
   ]
  },
  {
   "cell_type": "markdown",
   "id": "dbb7c5df",
   "metadata": {},
   "source": [
    "#### 1.15 Buteyko method, scope of inference.\n",
    "Exercise 1.4 introduces a study on using the Buteyko shallow breathing technique to reduce asthma symptoms and improve quality of life. As part of this study 600 asthma patients aged 18-69 who relied on medication for asthma treatment were recruited and randomly assigned to two groups: one practiced the Buteyko method and the other did not. Those in the Buteyko group experienced, on average, a significant reduction in asthma symptoms and an improvement in quality of life."
   ]
  },
  {
   "cell_type": "markdown",
   "id": "142d674c",
   "metadata": {},
   "source": [
    "a. Identify the population of interest and the sample in this study."
   ]
  },
  {
   "cell_type": "markdown",
   "id": "55f0299e",
   "metadata": {},
   "source": [
    "##### Answer\n",
    ">  600 asthma patients aged 18-69 who relied on medication for asthma treatment"
   ]
  },
  {
   "cell_type": "markdown",
   "id": "d0ee6675",
   "metadata": {},
   "source": [
    "b. Comment on whether or not the results of the study can be generalized to the population, and if the findings of the study can be used to establish causal relationships."
   ]
  },
  {
   "cell_type": "markdown",
   "id": "6b113923",
   "metadata": {},
   "source": [
    "##### Answer\n",
    "> If the patients in this sample, who are likely not randomly sampled, can be considered to be representative of all asthma patients aged 18-69 who rely on medication for asthma treatment, then the results are generalizable to the population defined above. Additionally, since the study is experimental, the findings can be used to establish causal relationships."
   ]
  },
  {
   "cell_type": "markdown",
   "id": "d7b18de4",
   "metadata": {},
   "source": [
    "#### 1.16 Stealers, scope of inference.\n",
    "Exercise 1.6 introduces a study on the relationship between socio-economic class and unethical behavior. As part of this study 129 University of California Berkeley undergraduates were asked to identify themselves as having low or high social-class by comparing themselves to others with the most (least) money, most (least) education, and most (least) respected jobs. They were also presented with a jar of individually wrapped candies and informed that the candies were for children in a nearby laboratory, but that they could take some if they wanted. After completing some unrelated tasks, participants reported the number of candie"
   ]
  },
  {
   "cell_type": "markdown",
   "id": "f5a319b0",
   "metadata": {},
   "source": [
    "a. Identify the population of interest and the sample in this study."
   ]
  },
  {
   "cell_type": "markdown",
   "id": "83875ca6",
   "metadata": {},
   "source": [
    "##### Answer\n",
    ">  129 University of California Berkeley undergraduates"
   ]
  },
  {
   "cell_type": "markdown",
   "id": "27201aff",
   "metadata": {},
   "source": [
    "b. Comment on whether or not the results of the study can be generalized to the population, and if the findings of the study can be used to establish causal relationships."
   ]
  },
  {
   "cell_type": "markdown",
   "id": "d207f037",
   "metadata": {},
   "source": [
    "##### Answer\n",
    "> The study can only be generalized to UCB undergraduates population. Because this is an experiment with controlled varable so the study can be used to establish causal relationships."
   ]
  },
  {
   "cell_type": "markdown",
   "id": "9b2c3b6c",
   "metadata": {},
   "source": [
    "#### 1.17 Relaxing after work.\n",
    "The General Social Survey asked the question, \"After an average work day, about how many hours do you have to relax or pursue activities that you enjoy?\" to a random sample of 1,155 Americans. The average relaxing time was found to be 1.65 hours. Determine which of the following is an observation, a variable, a sample statistic (value calculated based on the observed sample), or a population parameter."
   ]
  },
  {
   "cell_type": "markdown",
   "id": "33fcbfa2",
   "metadata": {},
   "source": [
    "a. An American in the sample."
   ]
  },
  {
   "cell_type": "markdown",
   "id": "b40ebec7",
   "metadata": {},
   "source": [
    "##### Answer\n",
    ">  Observation."
   ]
  },
  {
   "cell_type": "markdown",
   "id": "4291ba1b",
   "metadata": {},
   "source": [
    "b. Number of hours spent relaxing after an average work day."
   ]
  },
  {
   "cell_type": "markdown",
   "id": "d60c5888",
   "metadata": {},
   "source": [
    "##### Answer\n",
    "> Variable."
   ]
  },
  {
   "cell_type": "markdown",
   "id": "6832b065",
   "metadata": {},
   "source": [
    "c. 1.65."
   ]
  },
  {
   "cell_type": "markdown",
   "id": "c5cce04a",
   "metadata": {},
   "source": [
    "##### Answer\n",
    ">  Sample statistic (mean)."
   ]
  },
  {
   "cell_type": "markdown",
   "id": "755ba1f3",
   "metadata": {},
   "source": [
    "d. Average number of hours all Americans spend relaxing after an average work day."
   ]
  },
  {
   "cell_type": "markdown",
   "id": "fba6f8fe",
   "metadata": {},
   "source": [
    "##### Answer\n",
    "> Population parameter (mean)."
   ]
  },
  {
   "cell_type": "markdown",
   "id": "89d143d9",
   "metadata": {},
   "source": [
    "#### 1.18 Cats on YouTube.\n",
    "Suppose you want to estimate the percentage of videos on YouTube that are cat videos. It is impossible for you to watch all videos on YouTube so you use a random video picker to select 1000 videos for you. You find that 2% of these videos are cat videos. Determine which of the following is an observation, a variable, a sample statistic (value calculated based on the observed sample), or a population parameter."
   ]
  },
  {
   "cell_type": "markdown",
   "id": "21c71385",
   "metadata": {},
   "source": [
    "a. Percentage of all videos on YouTube that are cat videos."
   ]
  },
  {
   "cell_type": "markdown",
   "id": "16f7431b",
   "metadata": {},
   "source": [
    "##### Answer\n",
    "> Population parameter (percentage)."
   ]
  },
  {
   "cell_type": "markdown",
   "id": "406005cc",
   "metadata": {},
   "source": [
    "b. 2%."
   ]
  },
  {
   "cell_type": "markdown",
   "id": "05376861",
   "metadata": {},
   "source": [
    "##### Answer\n",
    "> Sample statistic."
   ]
  },
  {
   "cell_type": "markdown",
   "id": "de70e44f",
   "metadata": {},
   "source": [
    "c. A video in your sample."
   ]
  },
  {
   "cell_type": "markdown",
   "id": "9c5bfc54",
   "metadata": {},
   "source": [
    "##### Answer\n",
    ">  Observation."
   ]
  },
  {
   "cell_type": "markdown",
   "id": "c439e2b0",
   "metadata": {},
   "source": [
    "d. Whether or not a video is a cat video."
   ]
  },
  {
   "cell_type": "markdown",
   "id": "2dfbb763",
   "metadata": {},
   "source": [
    "##### Answer\n",
    "> Variable."
   ]
  },
  {
   "cell_type": "markdown",
   "id": "11d3f101",
   "metadata": {},
   "source": [
    "#### 1.19 Course satisfaction across sections.\n",
    "A large college class has 160 students. All 160 students attend the lectures together, but the students are divided into 4 groups, each of 40 students, for lab sections administered by different teaching assistants. The professor wants to conduct a survey about how satisfied the students are with the course, and he believes that the lab section a student is in might affect the student's overall satisfaction with the course."
   ]
  },
  {
   "cell_type": "markdown",
   "id": "906b0248",
   "metadata": {},
   "source": [
    "a. What type of study is this?"
   ]
  },
  {
   "cell_type": "markdown",
   "id": "621a138f",
   "metadata": {},
   "source": [
    "##### Answer\n",
    "> Observational"
   ]
  },
  {
   "cell_type": "markdown",
   "id": "035fd3b2",
   "metadata": {},
   "source": [
    "b. Suggest a sampling strategy for carrying out this study."
   ]
  },
  {
   "cell_type": "markdown",
   "id": "d5be1095",
   "metadata": {},
   "source": [
    "##### Answer\n",
    "> Use stratified sampling to randomly sample a fixed number of students, say 10, from each section for a total sample size of 40 students."
   ]
  },
  {
   "cell_type": "markdown",
   "id": "3862c622",
   "metadata": {},
   "source": [
    "#### 1.20 Housing proposal across dorms.\n",
    "On a large college campus first-year students and sophomores live in dorms located on the eastern part of the campus and juniors and seniors live in dorms located on the western part of the campus. Suppose you want to collect student opinions on a new housing structure the college administration is proposing and you want to make sure your survey equally represents opinions from students from all years."
   ]
  },
  {
   "cell_type": "markdown",
   "id": "1aa2f899",
   "metadata": {},
   "source": [
    "a. What type of study is this?"
   ]
  },
  {
   "cell_type": "markdown",
   "id": "6d32c3c7",
   "metadata": {},
   "source": [
    "##### Answer\n",
    "> Observational"
   ]
  },
  {
   "cell_type": "markdown",
   "id": "a16314e9",
   "metadata": {},
   "source": [
    "b. Suggest a sampling strategy for carrying out this study."
   ]
  },
  {
   "cell_type": "markdown",
   "id": "c9b7826b",
   "metadata": {},
   "source": [
    "##### Answer\n",
    "> Use clustered multistage sampling by grouping students based on their college year and dorms, then randomly select students from each category."
   ]
  },
  {
   "attachments": {
    "table%201321.jpg": {
     "image/jpeg": "[encoded data removed]"
    }
   },
   "cell_type": "markdown",
   "id": "d0b4e7a2",
   "metadata": {},
   "source": [
    "#### 1.21 Internet use and life expectancy.\n",
    "The following scatterplot was created as part of a study evaluating the relationship between estimated life expectancy at birth (as of 2014) and percentage of internet users (as of 2009) in 208 countries for which such data were available.\n",
    "\n",
    "![table%201321.jpg](attachment:table%201321.jpg)"
   ]
  },
  {
   "cell_type": "markdown",
   "id": "66df6ebf",
   "metadata": {},
   "source": [
    "a. Describe the relationship between life expectancy and percentage of internet users."
   ]
  },
  {
   "cell_type": "markdown",
   "id": "2e75fda4",
   "metadata": {},
   "source": [
    "##### Answer\n",
    "> Positive, non-linear, somewhat strong. Countries in which a higher percentage of the population have access to the internet also tend to have higher average life expectancies, however rise in life expectancy trails off before around 80 years old."
   ]
  },
  {
   "cell_type": "markdown",
   "id": "bd8df1ea",
   "metadata": {},
   "source": [
    "b. What type of study is this?"
   ]
  },
  {
   "cell_type": "markdown",
   "id": "c4970b44",
   "metadata": {},
   "source": [
    "##### Answer\n",
    "> Observational"
   ]
  },
  {
   "cell_type": "markdown",
   "id": "df8990f8",
   "metadata": {},
   "source": [
    "c. State a possible confounding variable that might explain this relationship and describe its potential effect."
   ]
  },
  {
   "cell_type": "markdown",
   "id": "85d01bc6",
   "metadata": {},
   "source": [
    "##### Answer\n",
    "> Wealth: countries with individuals who can widely afford the internet can probably also afford basic medical care. (Note: Answers may vary.)"
   ]
  },
  {
   "attachments": {},
   "cell_type": "markdown",
   "id": "68935179",
   "metadata": {},
   "source": [
    "#### 1.22 Stressed out, Part I.\n",
    "A study that surveyed a random sample of otherwise healthy high school students found that they are more likely to get muscle cramps when they are stressed. The study also noted that students drink more coffee and sleep less when they are stressed."
   ]
  },
  {
   "cell_type": "markdown",
   "id": "5bb7bb26",
   "metadata": {},
   "source": [
    "a. What type of study is this?"
   ]
  },
  {
   "cell_type": "markdown",
   "id": "17d20ad2",
   "metadata": {},
   "source": [
    "##### Answer\n",
    "> Observational"
   ]
  },
  {
   "cell_type": "markdown",
   "id": "19a6843f",
   "metadata": {},
   "source": [
    "b. Can this study be used to conclude a causal relationship between increased stress and muscle cramps?"
   ]
  },
  {
   "cell_type": "markdown",
   "id": "224584d9",
   "metadata": {},
   "source": [
    "##### Answer\n",
    "> No, it's possible the coffee and/ or sleep can cause muscle cramps."
   ]
  },
  {
   "cell_type": "markdown",
   "id": "e543050f",
   "metadata": {},
   "source": [
    "c. State a possible confounding variable that might explain this relationship and describe its potential effect."
   ]
  },
  {
   "cell_type": "markdown",
   "id": "defbd8df",
   "metadata": {},
   "source": [
    "##### Answer\n",
    "> Difficult school homework: the high school students may consume more coffee, have more sedentary activity, and sleep less while doing their homework."
   ]
  },
  {
   "attachments": {},
   "cell_type": "markdown",
   "id": "6d665186",
   "metadata": {},
   "source": [
    "#### 1.23 Evaluate sampling methods.\n",
    "A university wants to determine what fraction of its undergraduate student body support a new $25 annual fee to improve the student union. For each proposed method below, indicate whether the method is reasonable or not."
   ]
  },
  {
   "cell_type": "markdown",
   "id": "f6a5caa8",
   "metadata": {},
   "source": [
    "a. Survey a simple random sample of 500 students."
   ]
  },
  {
   "cell_type": "markdown",
   "id": "f913d50b",
   "metadata": {},
   "source": [
    "##### Answer\n",
    "> Simple random sampling is okay. In fact, it's rare for simple random sampling to not be a reasonable sampling method!"
   ]
  },
  {
   "cell_type": "markdown",
   "id": "474e5552",
   "metadata": {},
   "source": [
    "b. Stratify students by their field of study, then sample 10% of students from each stratum."
   ]
  },
  {
   "cell_type": "markdown",
   "id": "9777c439",
   "metadata": {},
   "source": [
    "##### Answer\n",
    "> The student opinions may vary by field of study, so the stratifying by this variable makes sense and would be reasonable."
   ]
  },
  {
   "cell_type": "markdown",
   "id": "2572a93e",
   "metadata": {},
   "source": [
    "c. Cluster students by their ages (e.g. 18 years old in one cluster, 19 years old in one cluster, etc.), then randomly sample three clusters and survey all students in those clusters."
   ]
  },
  {
   "cell_type": "markdown",
   "id": "c6f99e6d",
   "metadata": {},
   "source": [
    "##### Answer\n",
    "> Students of similar ages are probably going to have more similar opinions, and we want clusters to be diverse with respect to the outcome of interest, so this would not be a good approach. (Additional thought: the clusters in this case may also have very different numbers of people, which can also create unexpected sample sizes.)"
   ]
  },
  {
   "attachments": {},
   "cell_type": "markdown",
   "id": "61a3ea69",
   "metadata": {},
   "source": [
    "#### 1.24 Random digit dialing.\n",
    "The Gallup Poll uses a procedure called random digit dialing, which creates phone numbers based on a list of all area codes in America in conjunction with the associated number of residential households in each area code. Give a possible reason the Gallup Poll chooses to use random digit dialing instead of picking phone numbers from the phone book."
   ]
  },
  {
   "cell_type": "markdown",
   "id": "e5c6627a",
   "metadata": {},
   "source": [
    "##### Answer\n",
    "> Random sampling is more representative and prevents biases."
   ]
  },
  {
   "attachments": {},
   "cell_type": "markdown",
   "id": "dfc7aa8c",
   "metadata": {},
   "source": [
    "#### 1.25 Haters are gonna hate, study confirms.\n",
    "A study published in the Journal of Personality and Social Psychology asked a group of 200 randomly sampled men and women to evaluate how they felt about various subjects, such as camping, health care, architecture, taxidermy, crossword puzzles, and Japan in order to measure their attitude towards mostly independent stimuli. Then, they presented the participants with information about a new product: a microwave oven. This microwave oven does not exist, but the participants didn't know this, and were given three positive and three negative fake reviews. People who reacted positively to the subjects on the dispositional attitude measurement also tended to react positively to the microwave oven, and those who reacted negatively tended to react negatively to it. Researchers concluded that \\some people tend to like things, whereas others tend to dislike things, and a more thorough understanding of this tendency will lead to a more thorough understanding of the psychology of attitudes.\""
   ]
  },
  {
   "cell_type": "markdown",
   "id": "a1ed5c64",
   "metadata": {},
   "source": [
    "a. What are the cases?"
   ]
  },
  {
   "cell_type": "markdown",
   "id": "7a0159f4",
   "metadata": {},
   "source": [
    "##### Answer\n",
    "> The cases are 200 randomly sampled men and women."
   ]
  },
  {
   "cell_type": "markdown",
   "id": "1ac0c992",
   "metadata": {},
   "source": [
    "b. What is (are) the response variable(s) in this study?"
   ]
  },
  {
   "cell_type": "markdown",
   "id": "ad560db8",
   "metadata": {},
   "source": [
    "##### Answer\n",
    "> The response variable is attitude towards a fictional microwave oven."
   ]
  },
  {
   "cell_type": "markdown",
   "id": "8d059bbd",
   "metadata": {},
   "source": [
    "c. What is (are) the explanatory variable(s) in this study?"
   ]
  },
  {
   "cell_type": "markdown",
   "id": "9f944bfb",
   "metadata": {},
   "source": [
    "##### Answer\n",
    "> The explanatory variable is dispositional attitude."
   ]
  },
  {
   "cell_type": "markdown",
   "id": "b2ccba60",
   "metadata": {},
   "source": [
    "d. Does the study employ random sampling?"
   ]
  },
  {
   "cell_type": "markdown",
   "id": "4a171168",
   "metadata": {},
   "source": [
    "##### Answer\n",
    "> Yes, the cases are sampled randomly."
   ]
  },
  {
   "cell_type": "markdown",
   "id": "1cc6d944",
   "metadata": {},
   "source": [
    "e. Is this an observational study or an experiment? Explain your reasoning."
   ]
  },
  {
   "cell_type": "markdown",
   "id": "df963b50",
   "metadata": {},
   "source": [
    "##### Answer\n",
    "> This is an observational study since there is no random assignment to treatments."
   ]
  },
  {
   "cell_type": "markdown",
   "id": "b1ed7eb2",
   "metadata": {},
   "source": [
    "f. Can we establish a causal link between the explanatory and response variables?"
   ]
  },
  {
   "cell_type": "markdown",
   "id": "97938121",
   "metadata": {},
   "source": [
    "##### Answer\n",
    "> No, we cannot establish a causal link between the explanatory and response variables since the study is observational."
   ]
  },
  {
   "cell_type": "markdown",
   "id": "cd33b958",
   "metadata": {},
   "source": [
    "f. Can the results of the study be generalized to the population at large?"
   ]
  },
  {
   "cell_type": "markdown",
   "id": "6739048f",
   "metadata": {},
   "source": [
    "##### Answer\n",
    "> Yes, the results of the study can be generalized to the population at large since the sample is random."
   ]
  },
  {
   "attachments": {},
   "cell_type": "markdown",
   "id": "ba6afab0",
   "metadata": {},
   "source": [
    "#### 1.26 Family size.\n",
    "Suppose we want to estimate household size, where a \"household\" is defined as people living together in the same dwelling, and sharing living accommodations. If we select students at random at an elementary school and ask them what their family size is, will this be a good measure of household size? Or will our average be biased? If so, will it overestimate or underestimate the true value?"
   ]
  },
  {
   "cell_type": "markdown",
   "id": "681def5a",
   "metadata": {},
   "source": [
    "##### Answer\n",
    "> The measure will be biased and overestimate the true value, because it will exclude people who do not live with kids."
   ]
  },
  {
   "attachments": {},
   "cell_type": "markdown",
   "id": "ea1f9ac4",
   "metadata": {},
   "source": [
    "#### 1.27 Sampling strategies.\n",
    "A statistics student who is curious about the relationship between the amount of time students spend on social networking sites and their performance at school decides to conduct a survey. Various research strategies for collecting data are described below. In each, name the sampling method proposed and any bias you might expect."
   ]
  },
  {
   "cell_type": "markdown",
   "id": "c54b65fd",
   "metadata": {},
   "source": [
    "a. He randomly samples 40 students from the study's population, gives them the survey, asks them to fill it out and bring it back the next day."
   ]
  },
  {
   "cell_type": "markdown",
   "id": "f85fa7d4",
   "metadata": {},
   "source": [
    "##### Answer\n",
    "> Simple random sample. Non-response bias, if only those people who have strong opinions about\n",
    "the survey responds his sample may not be representative of the population."
   ]
  },
  {
   "cell_type": "markdown",
   "id": "3b633603",
   "metadata": {},
   "source": [
    "b. He gives out the survey only to his friends, making sure each one of them fills out the survey."
   ]
  },
  {
   "cell_type": "markdown",
   "id": "0ae5a61f",
   "metadata": {},
   "source": [
    "##### Answer\n",
    "> Convenience sample. Under coverage bias, his sample may not be representative of the population since it consists only of his\n",
    "friends. It is also possible that the study will have non-response bias if some choose to not bring back the survey."
   ]
  },
  {
   "cell_type": "markdown",
   "id": "6465d6eb",
   "metadata": {},
   "source": [
    "c. He posts a link to an online survey on Facebook and asks his friends to fill out the survey.What is (are) the explanatory variable(s) in this study?"
   ]
  },
  {
   "cell_type": "markdown",
   "id": "dd89a56d",
   "metadata": {},
   "source": [
    "##### Answer\n",
    "> Convenience sample. This will have a similar issues to handing out surveys to friends."
   ]
  },
  {
   "cell_type": "markdown",
   "id": "464a0d00",
   "metadata": {},
   "source": [
    "d. He randomly samples 5 classes and asks a random sample of students from those classes to fill out the survey."
   ]
  },
  {
   "cell_type": "markdown",
   "id": "51c42f6e",
   "metadata": {},
   "source": [
    "##### Answer\n",
    "> Multi-stage sampling. If the classes are similar to each other with respect to student composition this approach should not introduce bias, other than potential non-response bias."
   ]
  },
  {
   "attachments": {},
   "cell_type": "markdown",
   "id": "15909d8b",
   "metadata": {},
   "source": [
    "#### 1.28 Reading the paper.\n",
    "Below are excerpts from two articles published in the NY Times:"
   ]
  },
  {
   "cell_type": "markdown",
   "id": "40c3281c",
   "metadata": {},
   "source": [
    "a. An article titled Risks: Smokers Found More Prone to Dementia states the following:\n",
    "> Researchers analyzed data from 23,123 health plan members who participated in a voluntary exam and health behavior survey from 1978 to 1985, when they were 50-60 years old. 23 years later, about 25% of the group had dementia, including 1,136 with Alzheimer's disease and 416 with vascular dementia. After adjusting for other factors, the researchers concluded that pack-a-day smokers were 37% more likely than nonsmokers to develop dementia, and the risks went up with increased smoking; 44% for one to two packs a day; and twice the risk for more than two packs.\n",
    "\n",
    "Based on this study, can we conclude that smoking causes dementia later in life? Explain your reasoning."
   ]
  },
  {
   "cell_type": "markdown",
   "id": "958df837",
   "metadata": {},
   "source": [
    "##### Answer\n",
    "> No, because this is observational study with no control group."
   ]
  },
  {
   "cell_type": "markdown",
   "id": "95642879",
   "metadata": {},
   "source": [
    "b. Another article titled The School Bully Is Sleepy states the following:\n",
    "> The University of Michigan study, collected survey data from parents on each child's sleep habits and asked both parents and teachers to assess behavioral concerns. About a third of the students studied were identified by parents or teachers as having problems with disruptive behavior or bullying. The researchers found that children who had behavioral issues and those who were identified as bullies were twice as likely to have shown symptoms of sleep disorders.\"\n",
    "\n",
    "A friend of yours who read the article says, \"The study shows that sleep disorders lead to bullying in\n",
    "school children.\" Is this statement justified? If not, how best can you describe the conclusion that can\n",
    "be drawn from this study?"
   ]
  },
  {
   "cell_type": "markdown",
   "id": "fe91628f",
   "metadata": {},
   "source": [
    "##### Answer\n",
    "> No, because there might be a possible confounding variables, e.g.: difficult home, difficult to sleep."
   ]
  }
 ],
 "metadata": {
  "kernelspec": {
   "display_name": "Python 3 (ipykernel)",
   "language": "python",
   "name": "python3"
  },
  "language_info": {
   "codemirror_mode": {
    "name": "ipython",
    "version": 3
   },
   "file_extension": ".py",
   "mimetype": "text/x-python",
   "name": "python",
   "nbconvert_exporter": "python",
   "pygments_lexer": "ipython3",
   "version": "3.9.0"
  }
 },
 "nbformat": 4,
 "nbformat_minor": 5
}
