{
 "cells": [
  {
   "cell_type": "markdown",
   "id": "a6844fcc",
   "metadata": {},
   "source": [
    "OpenIntro Statistics, 4th edition\n",
    "\n",
    "End of chapter exercises in Chapter 2: 2.1\n",
    "### 2.1 Examining Numerical Data"
   ]
  },
  {
   "cell_type": "code",
   "execution_count": 280,
   "id": "379c175e",
   "metadata": {},
   "outputs": [],
   "source": [
    "from math import sqrt\n",
    "import numpy as np"
   ]
  },
  {
   "cell_type": "markdown",
   "id": "fe1e2427",
   "metadata": {},
   "source": [
    "#### 2.1 Mammal life spans.\n",
    "Data were collected on life spans (in years) and gestation lengths (in days) for 62 mammals. A scatterplot of life span versus length of gestation is shown below.\n",
    "\n",
    "![](table-2-1-1.jpg)"
   ]
  },
  {
   "cell_type": "markdown",
   "id": "f2ed94db",
   "metadata": {},
   "source": [
    "a. What type of an association is apparent between life span and length of gestation?"
   ]
  },
  {
   "cell_type": "markdown",
   "id": "5e545ec8",
   "metadata": {},
   "source": [
    "##### Answer\n",
    "> Positive association: mammals with longer gestation periods tend to live longer as well."
   ]
  },
  {
   "cell_type": "markdown",
   "id": "2b073fad",
   "metadata": {},
   "source": [
    "b. What type of an association would you expect to see if the axes of the plot were reversed, i.e. if we plotted length of gestation versus life span?"
   ]
  },
  {
   "cell_type": "markdown",
   "id": "e43c2cd6",
   "metadata": {},
   "source": [
    "##### Answer\n",
    "> Association would still be positive."
   ]
  },
  {
   "cell_type": "markdown",
   "id": "1ebb010d",
   "metadata": {},
   "source": [
    "c. Are life span and length of gestation independent? Explain your reasoning."
   ]
  },
  {
   "cell_type": "markdown",
   "id": "fadb9605",
   "metadata": {},
   "source": [
    "##### Answer\n",
    "> No, they are not independent."
   ]
  },
  {
   "cell_type": "markdown",
   "id": "77299b16",
   "metadata": {},
   "source": [
    "#### 2.2 Associations.\n",
    "Indicate which of the plots show:\n",
    "1. A positive association\n",
    "2. Negative association\n",
    "3. No association\n",
    "\n",
    "Also determine if the positive and negative associations are linear or nonlinear. Each part may refer to more than one plot.\n",
    "\n",
    "![](table-2-2-1.jpg)"
   ]
  },
  {
   "cell_type": "markdown",
   "id": "8f9b58f1",
   "metadata": {},
   "source": [
    "##### Answer\n",
    "> 1. Positive association\n",
    "> 2. No Association\n",
    "> 3. Positive association\n",
    "> 4. Negative association"
   ]
  },
  {
   "cell_type": "markdown",
   "id": "953091f6",
   "metadata": {},
   "source": [
    "#### 2.3 Reproducing bacteria.\n",
    "Suppose that there is only suffcient space and nutrients to support one million bacterial cells in a petri dish. You place a few bacterial cells in this petri dish, allow them to reproduce freely, and record the number of bacterial cells in the dish over time. Sketch a plot representing the relationship between number of bacterial cells and time."
   ]
  },
  {
   "cell_type": "markdown",
   "id": "c9990b3a",
   "metadata": {},
   "source": [
    "##### Answer\n",
    "> The graph below shows a ramp up period. There may also be a period of exponential growth at the start before the size of the petri dish becomes a factor in slowing growth.\n",
    "![](table-2-3-1.jpg)"
   ]
  },
  {
   "cell_type": "markdown",
   "id": "4c34e975",
   "metadata": {},
   "source": [
    "#### 2.4 Office productivity.\n",
    "Office productivity is relatively low when the employees feel no stress about their work or job security. However, high levels of stress can also lead to reduced employee productivity. Sketch a plot to represent the relationship between stress and productivity."
   ]
  },
  {
   "cell_type": "markdown",
   "id": "dac4b057",
   "metadata": {},
   "source": [
    "##### Answer\n",
    "> Bimodal plot."
   ]
  },
  {
   "cell_type": "markdown",
   "id": "d5f32d06",
   "metadata": {},
   "source": [
    "#### 2.5 Parameters and statistics.\n",
    "Identify which value represents the sample mean and which value represents the claimed population mean."
   ]
  },
  {
   "cell_type": "markdown",
   "id": "244df5d0",
   "metadata": {},
   "source": [
    "a. American households spent an average of about 52 USD in 2007 on Halloween merchandise such as costumes, decorations and candy. To see if this number had changed, researchers conducted a new survey in 2008 before industry numbers were reported. The survey included 1,500 households and found that average Halloween spending was 58 USD per household."
   ]
  },
  {
   "cell_type": "markdown",
   "id": "66a13f5c",
   "metadata": {},
   "source": [
    "##### Answer\n",
    "> Population mean, $\\mu_{2007}$ = 52; sample mean, $\\bar{x}_{2008}$ = 58."
   ]
  },
  {
   "cell_type": "markdown",
   "id": "12f2c019",
   "metadata": {},
   "source": [
    "b. The average GPA of students in 2001 at a private university was 3.37. A survey on a sample of 203 students from this university yielded an average GPA of 3.59 a decade later."
   ]
  },
  {
   "cell_type": "markdown",
   "id": "d0807644",
   "metadata": {},
   "source": [
    "##### Answer\n",
    "> Population mean, $\\mu_{2001}$ = 3.37; sample mean, $\\overline{x}_{2012}$ = 3.59."
   ]
  },
  {
   "cell_type": "markdown",
   "id": "c169572d",
   "metadata": {},
   "source": [
    "#### 2.6 Sleeping in college.\n",
    "A recent article in a college newspaper stated that college students get an average of 5.5 hrs of sleep each night. A student who was skeptical about this value decided to conduct a survey by randomly sampling 25 students. On average, the sampled students slept 6.25 hours per night. Identify which value represents the sample mean and which value represents the claimed population mean."
   ]
  },
  {
   "cell_type": "markdown",
   "id": "5cffca95",
   "metadata": {},
   "source": [
    "##### Answer\n",
    "> Population mean, $\\mu$ = 5.5 hrs; sample mean, $\\overline{x}$ = 6.25 hours."
   ]
  },
  {
   "cell_type": "markdown",
   "id": "08b55821",
   "metadata": {},
   "source": [
    "#### 2.7 Days off at a mining plant.\n",
    "Workers at a particular mining site receive an average of 35 days paid vacation, which is lower than the national average. The manager of this plant is under pressure from a local union to increase the amount of paid time off. However, he does not want to give more days off to the workers because that would be costly. Instead he decides he should fire 10 employees in such a way as to raise the average number of days off that are reported by his employees. In order to achieve this goal, should he fire employees who have the most number of days off, least number of days off, or those who have about the average number of days off?"
   ]
  },
  {
   "cell_type": "markdown",
   "id": "7c2ada09",
   "metadata": {},
   "source": [
    "##### Answer\n",
    "> Any 10 employees whose average number of days off is between the minimum and the mean number of days off for the entire workforce at this plant."
   ]
  },
  {
   "cell_type": "markdown",
   "id": "6a114759",
   "metadata": {},
   "source": [
    "#### 2.8 Medians and IQRs.\n",
    "For each part, compare distributions (1) and (2) based on their medians and IQRs. You do not need to calculate these statistics; simply state how the medians and IQRs compare. Make sure to explain your reasoning."
   ]
  },
  {
   "cell_type": "markdown",
   "id": "2befb4e3",
   "metadata": {},
   "source": [
    "a. \n",
    "1) 3, 5, 6, 7, 9\\\n",
    "2) 3, 5, 6, 7, 20"
   ]
  },
  {
   "cell_type": "code",
   "execution_count": 251,
   "id": "cbe07833",
   "metadata": {},
   "outputs": [
    {
     "name": "stdout",
     "output_type": "stream",
     "text": [
      "Distribution 1 Median = 6.0\n",
      "Distribution 1 Quartile 1 = 5.0\n",
      "Distribution 1 Quartile 3 = 7.0\n",
      "Distribution 1 IQR = 2.0\n",
      "\n",
      "Distribution 2 Median = 6.0\n",
      "Distribution 2 Quartile 1 = 5.0\n",
      "Distribution 2 Quartile 3 = 7.0\n",
      "Distribution 2 IQR = 2.0\n",
      "\n",
      "Distribution 1 and Distribution 2 have the same Median.\n",
      "Distribution 1 and Distribution 2 have the same interquartile range.\n"
     ]
    }
   ],
   "source": [
    "dist_1 = [3, 5, 6, 7, 9]\n",
    "dist_2 = [3, 5, 6, 7, 20]\n",
    "\n",
    "# Distribution 1\n",
    "dist_1_q_1 = np.quantile(dist_1, .25, interpolation='midpoint')\n",
    "dist_1_q_2 = np.quantile(dist_1, .50, interpolation='midpoint')\n",
    "dist_1_q_3 = np.quantile(dist_1, .75, interpolation='midpoint')\n",
    "dist_1_iqr = dist_1_q_3 - dist_1_q_1\n",
    "print(f\"Distribution 1 Median = {dist_1_q_2}\\nDistribution 1 Quartile 1 = {dist_1_q_1}\\nDistribution 1 Quartile 3 = {dist_1_q_3}\\nDistribution 1 IQR = {dist_1_iqr}\\n\")\n",
    "\n",
    "# Distribution 2\n",
    "dist_2_q_1 = np.quantile(dist_2, .25, interpolation='midpoint')\n",
    "dist_2_q_2 = np.quantile(dist_2, .50, interpolation='midpoint')\n",
    "dist_2_q_3 = np.quantile(dist_2, .75, interpolation='midpoint')\n",
    "dist_2_iqr = dist_2_q_3 - dist_2_q_1\n",
    "print(f\"Distribution 2 Median = {dist_2_q_2}\\nDistribution 2 Quartile 1 = {dist_2_q_1}\\nDistribution 2 Quartile 3 = {dist_2_q_3}\\nDistribution 2 IQR = {dist_2_iqr}\\n\")\n",
    "\n",
    "if dist_1_q_2 == dist_2_q_2:\n",
    "    print(\"Distribution 1 and Distribution 2 have the same Median.\")\n",
    "elif dist_1_q_2 > dist_2_q_2:\n",
    "    print(\"Distribution 1 has higher Median than Distribution 2.\")\n",
    "elif dist_1_q_2 < dist_2_q_2:\n",
    "    print(\"Distribution 2 has higher Median than Distribution 1.\")\n",
    "    \n",
    "if dist_1_iqr == dist_2_iqr:\n",
    "    print(\"Distribution 1 and Distribution 2 have the same interquartile range.\")\n",
    "elif dist_1_iqr > dist_2_iqr:\n",
    "    print(\"Distribution 1 has higher interquartile range than Distribution 2.\")\n",
    "elif dist_1_iqr < dist_2_iqr:\n",
    "    print(\"Distribution 2 has higher interquartile range than Distribution 1.\")"
   ]
  },
  {
   "cell_type": "markdown",
   "id": "ff72ba47",
   "metadata": {},
   "source": [
    "b.\n",
    "1) 3, 5, 6, 7, 9\\\n",
    "2) 3, 5, 6, 8, 20"
   ]
  },
  {
   "cell_type": "code",
   "execution_count": 252,
   "id": "40d6256a",
   "metadata": {},
   "outputs": [
    {
     "name": "stdout",
     "output_type": "stream",
     "text": [
      "Distribution 1 Median = 6.0\n",
      "Distribution 1 Quartile 1 = 5.0\n",
      "Distribution 1 Quartile 3 = 7.0\n",
      "Distribution 1 IQR = 2.0\n",
      "\n",
      "Distribution 2 Median = 6.0\n",
      "Distribution 2 Quartile 1 = 5.0\n",
      "Distribution 2 Quartile 3 = 8.0\n",
      "Distribution 2 IQR = 3.0\n",
      "\n",
      "Distribution 1 and Distribution 2 have the same Median.\n",
      "Distribution 2 has higher interquartile range than Distribution 1.\n"
     ]
    }
   ],
   "source": [
    "dist_1 = [3, 5, 6, 7, 9]\n",
    "dist_2 = [3, 5, 6, 8, 20]\n",
    "\n",
    "# Distribution 1\n",
    "dist_1_q_1 = np.quantile(dist_1, .25, interpolation='midpoint')\n",
    "dist_1_q_2 = np.quantile(dist_1, .50, interpolation='midpoint')\n",
    "dist_1_q_3 = np.quantile(dist_1, .75, interpolation='midpoint')\n",
    "dist_1_iqr = dist_1_q_3 - dist_1_q_1\n",
    "print(f\"Distribution 1 Median = {dist_1_q_2}\\nDistribution 1 Quartile 1 = {dist_1_q_1}\\nDistribution 1 Quartile 3 = {dist_1_q_3}\\nDistribution 1 IQR = {dist_1_iqr}\\n\")\n",
    "\n",
    "# Distribution 2\n",
    "dist_2_q_1 = np.quantile(dist_2, .25, interpolation='midpoint')\n",
    "dist_2_q_2 = np.quantile(dist_2, .50, interpolation='midpoint')\n",
    "dist_2_q_3 = np.quantile(dist_2, .75, interpolation='midpoint')\n",
    "dist_2_iqr = dist_2_q_3 - dist_2_q_1\n",
    "print(f\"Distribution 2 Median = {dist_2_q_2}\\nDistribution 2 Quartile 1 = {dist_2_q_1}\\nDistribution 2 Quartile 3 = {dist_2_q_3}\\nDistribution 2 IQR = {dist_2_iqr}\\n\")\n",
    "\n",
    "if dist_1_q_2 == dist_2_q_2:\n",
    "    print(\"Distribution 1 and Distribution 2 have the same Median.\")\n",
    "elif dist_1_q_2 > dist_2_q_2:\n",
    "    print(\"Distribution 1 has higher Median than Distribution 2.\")\n",
    "elif dist_1_q_2 < dist_2_q_2:\n",
    "    print(\"Distribution 2 has higher Median than Distribution 1.\")\n",
    "    \n",
    "if dist_1_iqr == dist_2_iqr:\n",
    "    print(\"Distribution 1 and Distribution 2 have the same interquartile range.\")\n",
    "elif dist_1_iqr > dist_2_iqr:\n",
    "    print(\"Distribution 1 has higher interquartile range than Distribution 2.\")\n",
    "elif dist_1_iqr < dist_2_iqr:\n",
    "    print(\"Distribution 2 has higher interquartile range than Distribution 1.\")"
   ]
  },
  {
   "cell_type": "markdown",
   "id": "6daae555",
   "metadata": {},
   "source": [
    "c.\n",
    "1) 1, 2, 3, 4, 5\\\n",
    "2) 6, 7, 8, 9, 10"
   ]
  },
  {
   "cell_type": "code",
   "execution_count": 253,
   "id": "674db66a",
   "metadata": {},
   "outputs": [
    {
     "name": "stdout",
     "output_type": "stream",
     "text": [
      "Distribution 1 Median = 3.0\n",
      "Distribution 1 Quartile 1 = 2.0\n",
      "Distribution 1 Quartile 3 = 4.0\n",
      "Distribution 1 IQR = 2.0\n",
      "\n",
      "Distribution 2 Median = 8.0\n",
      "Distribution 2 Quartile 1 = 7.0\n",
      "Distribution 2 Quartile 3 = 9.0\n",
      "Distribution 2 IQR = 2.0\n",
      "\n",
      "Distribution 2 has higher Median than Distribution 1.\n",
      "Distribution 1 and Distribution 2 have the same interquartile range.\n"
     ]
    }
   ],
   "source": [
    "dist_1 = [1, 2, 3, 4, 5]\n",
    "dist_2 = [6, 7, 8, 9, 10]\n",
    "\n",
    "# Distribution 1\n",
    "dist_1_q_1 = np.quantile(dist_1, .25, interpolation='midpoint')\n",
    "dist_1_q_2 = np.quantile(dist_1, .50, interpolation='midpoint')\n",
    "dist_1_q_3 = np.quantile(dist_1, .75, interpolation='midpoint')\n",
    "dist_1_iqr = dist_1_q_3 - dist_1_q_1\n",
    "print(f\"Distribution 1 Median = {dist_1_q_2}\\nDistribution 1 Quartile 1 = {dist_1_q_1}\\nDistribution 1 Quartile 3 = {dist_1_q_3}\\nDistribution 1 IQR = {dist_1_iqr}\\n\")\n",
    "\n",
    "# Distribution 2\n",
    "dist_2_q_1 = np.quantile(dist_2, .25, interpolation='midpoint')\n",
    "dist_2_q_2 = np.quantile(dist_2, .50, interpolation='midpoint')\n",
    "dist_2_q_3 = np.quantile(dist_2, .75, interpolation='midpoint')\n",
    "dist_2_iqr = dist_2_q_3 - dist_2_q_1\n",
    "print(f\"Distribution 2 Median = {dist_2_q_2}\\nDistribution 2 Quartile 1 = {dist_2_q_1}\\nDistribution 2 Quartile 3 = {dist_2_q_3}\\nDistribution 2 IQR = {dist_2_iqr}\\n\")\n",
    "\n",
    "if dist_1_q_2 == dist_2_q_2:\n",
    "    print(\"Distribution 1 and Distribution 2 have the same Median.\")\n",
    "elif dist_1_q_2 > dist_2_q_2:\n",
    "    print(\"Distribution 1 has higher Median than Distribution 2.\")\n",
    "elif dist_1_q_2 < dist_2_q_2:\n",
    "    print(\"Distribution 2 has higher Median than Distribution 1.\")\n",
    "    \n",
    "if dist_1_iqr == dist_2_iqr:\n",
    "    print(\"Distribution 1 and Distribution 2 have the same interquartile range.\")\n",
    "elif dist_1_iqr > dist_2_iqr:\n",
    "    print(\"Distribution 1 has higher interquartile range than Distribution 2.\")\n",
    "elif dist_1_iqr < dist_2_iqr:\n",
    "    print(\"Distribution 2 has higher interquartile range than Distribution 1.\")"
   ]
  },
  {
   "cell_type": "markdown",
   "id": "9c40563e",
   "metadata": {},
   "source": [
    "d.\n",
    "1) 0, 10, 50, 60, 100\\\n",
    "2) 0, 100, 500, 600, 1000"
   ]
  },
  {
   "cell_type": "code",
   "execution_count": 254,
   "id": "84aeb4e2",
   "metadata": {},
   "outputs": [
    {
     "name": "stdout",
     "output_type": "stream",
     "text": [
      "Distribution 1 Median = 50.0\n",
      "Distribution 1 Quartile 1 = 10.0\n",
      "Distribution 1 Quartile 3 = 60.0\n",
      "Distribution 1 IQR = 50.0\n",
      "\n",
      "Distribution 2 Median = 500.0\n",
      "Distribution 2 Quartile 1 = 100.0\n",
      "Distribution 2 Quartile 3 = 600.0\n",
      "Distribution 2 IQR = 500.0\n",
      "\n",
      "Distribution 2 has higher Median than Distribution 1.\n",
      "Distribution 2 has higher interquartile range than Distribution 1.\n"
     ]
    }
   ],
   "source": [
    "dist_1 = [0, 10, 50, 60, 100]\n",
    "dist_2 = [0, 100, 500, 600, 1000]\n",
    "\n",
    "# Distribution 1\n",
    "dist_1_q_1 = np.quantile(dist_1, .25, interpolation='midpoint')\n",
    "dist_1_q_2 = np.quantile(dist_1, .50, interpolation='midpoint')\n",
    "dist_1_q_3 = np.quantile(dist_1, .75, interpolation='midpoint')\n",
    "dist_1_iqr = dist_1_q_3 - dist_1_q_1\n",
    "print(f\"Distribution 1 Median = {dist_1_q_2}\\nDistribution 1 Quartile 1 = {dist_1_q_1}\\nDistribution 1 Quartile 3 = {dist_1_q_3}\\nDistribution 1 IQR = {dist_1_iqr}\\n\")\n",
    "\n",
    "# Distribution 2\n",
    "dist_2_q_1 = np.quantile(dist_2, .25, interpolation='midpoint')\n",
    "dist_2_q_2 = np.quantile(dist_2, .50, interpolation='midpoint')\n",
    "dist_2_q_3 = np.quantile(dist_2, .75, interpolation='midpoint')\n",
    "dist_2_iqr = dist_2_q_3 - dist_2_q_1\n",
    "print(f\"Distribution 2 Median = {dist_2_q_2}\\nDistribution 2 Quartile 1 = {dist_2_q_1}\\nDistribution 2 Quartile 3 = {dist_2_q_3}\\nDistribution 2 IQR = {dist_2_iqr}\\n\")\n",
    "\n",
    "if dist_1_q_2 == dist_2_q_2:\n",
    "    print(\"Distribution 1 and Distribution 2 have the same Median.\")\n",
    "elif dist_1_q_2 > dist_2_q_2:\n",
    "    print(\"Distribution 1 has higher Median than Distribution 2.\")\n",
    "elif dist_1_q_2 < dist_2_q_2:\n",
    "    print(\"Distribution 2 has higher Median than Distribution 1.\")\n",
    "    \n",
    "if dist_1_iqr == dist_2_iqr:\n",
    "    print(\"Distribution 1 and Distribution 2 have the same interquartile range.\")\n",
    "elif dist_1_iqr > dist_2_iqr:\n",
    "    print(\"Distribution 1 has higher interquartile range than Distribution 2.\")\n",
    "elif dist_1_iqr < dist_2_iqr:\n",
    "    print(\"Distribution 2 has higher interquartile range than Distribution 1.\")"
   ]
  },
  {
   "cell_type": "markdown",
   "id": "48e829eb",
   "metadata": {},
   "source": [
    "#### 2.8 Means and SDs\n",
    "For each part, compare distributions (1) and (2) based on their means and standard deviations. You do not need to calculate these statistics; simply state how the means and the standard deviations compare. Make sure to explain your reasoning. Hint: It may be useful to sketch dot plots of the distributions."
   ]
  },
  {
   "cell_type": "markdown",
   "id": "c780bc28",
   "metadata": {},
   "source": [
    "a. \n",
    "1) 3, 5, 5, 5, 8, 11, 11, 11, 13\\\n",
    "2) 3, 5, 5, 5, 8, 11, 11, 11, 20"
   ]
  },
  {
   "cell_type": "code",
   "execution_count": 256,
   "id": "5c7cfc26",
   "metadata": {},
   "outputs": [
    {
     "name": "stdout",
     "output_type": "stream",
     "text": [
      "Mean 1 = 8.0; Standard Deviation 1 = 3.6\n",
      "Mean 2 = 8.8; Standard Deviation 2 = 5.2\n"
     ]
    }
   ],
   "source": [
    "dist_1 = [3, 5, 5, 5, 8, 11, 11, 11, 13]\n",
    "dist_2 = [3, 5, 5, 5, 8, 11, 11, 11, 20]\n",
    "\n",
    "sum_1 = sum(dist_1)\n",
    "sum_2 = sum(dist_2)\n",
    "\n",
    "mean_1 = sum_1 / len(dist_1)\n",
    "mean_2 = sum_2 / len(dist_2)\n",
    "\n",
    "variance_1 = 0\n",
    "variance_2 = 0\n",
    "\n",
    "for i in range(len(dist_1)):\n",
    "    deviation = mean_1 - dist_1[i]\n",
    "    variance_1 += (deviation)**2    \n",
    "variance_1 = (variance_1 / (len(dist_1)-1))\n",
    "\n",
    "for i in range(len(dist_2)):\n",
    "    deviation = mean_2 - dist_2[i]\n",
    "    variance_2 += (deviation)**2    \n",
    "variance_2 = (variance_2 / (len(dist_2)-1))\n",
    "\n",
    "sd_1 = sqrt(variance_1)\n",
    "sd_2 = sqrt(variance_2)\n",
    "\n",
    "print(f\"Mean 1 = {round(mean_1, 1)}; Standard Deviation 1 = {round(sd_1, 1)}\")\n",
    "print(f\"Mean 2 = {round(mean_2, 1)}; Standard Deviation 2 = {round(sd_2, 1)}\")"
   ]
  },
  {
   "cell_type": "markdown",
   "id": "79ea6433",
   "metadata": {},
   "source": [
    "##### Answer\n",
    "> Dist 2 has a higher mean since 20 > 13, and a higher standard deviation since 20 is further from the\n",
    "rest of the data than 13."
   ]
  },
  {
   "cell_type": "markdown",
   "id": "cd5136d6",
   "metadata": {},
   "source": [
    "b.\n",
    "1) -20, 0, 0, 0, 15, 25, 30, 30\\\n",
    "2) -40, 0, 0, 0, 15, 25, 30, 30"
   ]
  },
  {
   "cell_type": "code",
   "execution_count": 257,
   "id": "15af099f",
   "metadata": {},
   "outputs": [
    {
     "name": "stdout",
     "output_type": "stream",
     "text": [
      "Mean 1 = 10.0; Standard Deviation 1 = 17.9\n",
      "Mean 2 = 7.5; Standard Deviation 2 = 23.3\n"
     ]
    }
   ],
   "source": [
    "dist_1 = [-20, 0, 0, 0, 15, 25, 30, 30]\n",
    "dist_2 = [-40, 0, 0, 0, 15, 25, 30, 30]\n",
    "\n",
    "sum_1 = sum(dist_1)\n",
    "sum_2 = sum(dist_2)\n",
    "\n",
    "mean_1 = sum_1 / len(dist_1)\n",
    "mean_2 = sum_2 / len(dist_2)\n",
    "\n",
    "variance_1 = 0\n",
    "variance_2 = 0\n",
    "\n",
    "for i in range(len(dist_1)):\n",
    "    deviation = mean_1 - dist_1[i]\n",
    "    variance_1 += (deviation)**2    \n",
    "variance_1 = (variance_1 / (len(dist_1)-1))\n",
    "\n",
    "for i in range(len(dist_2)):\n",
    "    deviation = mean_2 - dist_2[i]\n",
    "    variance_2 += (deviation)**2    \n",
    "variance_2 = (variance_2 / (len(dist_2)-1))\n",
    "\n",
    "sd_1 = sqrt(variance_1)\n",
    "sd_2 = sqrt(variance_2)\n",
    "\n",
    "print(f\"Mean 1 = {round(mean_1, 1)}; Standard Deviation 1 = {round(sd_1, 1)}\")\n",
    "print(f\"Mean 2 = {round(mean_2, 1)}; Standard Deviation 2 = {round(sd_2, 1)}\")"
   ]
  },
  {
   "cell_type": "markdown",
   "id": "49497c43",
   "metadata": {},
   "source": [
    "##### Answer\n",
    "> Dist 1 has a higher mean since -20 > -40, and Dist 2 has a higher standard deviation since -40 is farther away from the rest of the data than -20."
   ]
  },
  {
   "cell_type": "markdown",
   "id": "c59930be",
   "metadata": {},
   "source": [
    "c.\n",
    "1) 0, 2, 4, 6, 8, 10\\\n",
    "2) 20, 22, 24, 26, 28, 30"
   ]
  },
  {
   "cell_type": "code",
   "execution_count": 258,
   "id": "efb4f3d8",
   "metadata": {},
   "outputs": [
    {
     "name": "stdout",
     "output_type": "stream",
     "text": [
      "Mean 1 = 5.0; Standard Deviation 1 = 3.7\n",
      "Mean 2 = 25.0; Standard Deviation 2 = 3.7\n"
     ]
    }
   ],
   "source": [
    "dist_1 = [0, 2, 4, 6, 8, 10]\n",
    "dist_2 = [20, 22, 24, 26, 28, 30]\n",
    "\n",
    "sum_1 = sum(dist_1)\n",
    "sum_2 = sum(dist_2)\n",
    "\n",
    "mean_1 = sum_1 / len(dist_1)\n",
    "mean_2 = sum_2 / len(dist_2)\n",
    "\n",
    "variance_1 = 0\n",
    "variance_2 = 0\n",
    "\n",
    "for i in range(len(dist_1)):\n",
    "    deviation = mean_1 - dist_1[i]\n",
    "    variance_1 += (deviation)**2    \n",
    "variance_1 = (variance_1 / (len(dist_1)-1))\n",
    "\n",
    "for i in range(len(dist_2)):\n",
    "    deviation = mean_2 - dist_2[i]\n",
    "    variance_2 += (deviation)**2    \n",
    "variance_2 = (variance_2 / (len(dist_2)-1))\n",
    "\n",
    "sd_1 = sqrt(variance_1)\n",
    "sd_2 = sqrt(variance_2)\n",
    "\n",
    "print(f\"Mean 1 = {round(mean_1, 1)}; Standard Deviation 1 = {round(sd_1, 1)}\")\n",
    "print(f\"Mean 2 = {round(mean_2, 1)}; Standard Deviation 2 = {round(sd_2, 1)}\")"
   ]
  },
  {
   "cell_type": "markdown",
   "id": "92782c77",
   "metadata": {},
   "source": [
    "##### Answer\n",
    "> Dist 2 has a higher mean since all values in this distribution are higher than those in Dist 1, but both distribution have the same standard deviation since they are equally variable around their respective means. "
   ]
  },
  {
   "cell_type": "markdown",
   "id": "67724fc0",
   "metadata": {},
   "source": [
    "d.\n",
    "1) 100, 200, 300, 400, 500\\\n",
    "2) 0, 50, 300, 550, 600"
   ]
  },
  {
   "cell_type": "code",
   "execution_count": 259,
   "id": "3e9240b9",
   "metadata": {},
   "outputs": [
    {
     "name": "stdout",
     "output_type": "stream",
     "text": [
      "Mean 1 = 300.0; Standard Deviation 1 = 158.1\n",
      "Mean 2 = 300.0; Standard Deviation 2 = 276.1\n"
     ]
    }
   ],
   "source": [
    "dist_1 = [100, 200, 300, 400, 500]\n",
    "dist_2 = [0, 50, 300, 550, 600]\n",
    "\n",
    "sum_1 = sum(dist_1)\n",
    "sum_2 = sum(dist_2)\n",
    "\n",
    "mean_1 = sum_1 / len(dist_1)\n",
    "mean_2 = sum_2 / len(dist_2)\n",
    "\n",
    "variance_1 = 0\n",
    "variance_2 = 0\n",
    "\n",
    "for i in range(len(dist_1)):\n",
    "    deviation = mean_1 - dist_1[i]\n",
    "    variance_1 += (deviation)**2    \n",
    "variance_1 = (variance_1 / (len(dist_1)-1))\n",
    "\n",
    "for i in range(len(dist_2)):\n",
    "    deviation = mean_2 - dist_2[i]\n",
    "    variance_2 += (deviation)**2    \n",
    "variance_2 = (variance_2 / (len(dist_2)-1))\n",
    "\n",
    "sd_1 = sqrt(variance_1)\n",
    "sd_2 = sqrt(variance_2)\n",
    "\n",
    "print(f\"Mean 1 = {round(mean_1, 1)}; Standard Deviation 1 = {round(sd_1, 1)}\")\n",
    "print(f\"Mean 2 = {round(mean_2, 1)}; Standard Deviation 2 = {round(sd_2, 1)}\")"
   ]
  },
  {
   "cell_type": "markdown",
   "id": "da03ca33",
   "metadata": {},
   "source": [
    "##### Answer\n",
    "> Both distributions have the same mean since they're both centered at 300, but Dist 2 has a higher standard deviation since the observations are farther from the mean than in Dist 1."
   ]
  },
  {
   "cell_type": "markdown",
   "id": "c6783b81",
   "metadata": {},
   "source": [
    "#### 2.10 Mix-and-match.\n",
    "Describe the distribution in the histograms below and match them to the box plots.\n",
    "\n",
    "![](table-2-10-1.jpg)"
   ]
  },
  {
   "cell_type": "markdown",
   "id": "d136c080",
   "metadata": {},
   "source": [
    "##### Answer\n",
    "> a. Unimodal, normal distribution == 2\n",
    "\n",
    "> b. Equal distribution == 3\n",
    "\n",
    "> c. Unimodal, right skewed == 1"
   ]
  },
  {
   "cell_type": "markdown",
   "id": "d6ee9eab",
   "metadata": {},
   "source": [
    "#### 2.11 Air quality.\n",
    "Daily air quality is measured by the air quality index (AQI) reported by the Environmental Protection Agency. This index reports the pollution level and what associated health effects might be a concern. The index is calculated for five major air pollutants regulated by the Clean Air Act and takes values from 0 to 300, where a higher value indicates lower air quality. AQI was reported for a sample of 91 days in 2011 in Durham, NC. The relative frequency histogram below shows the distribution of the AQI values on these days.\n",
    "\n",
    "![](table-2-11-1.jpg)"
   ]
  },
  {
   "cell_type": "markdown",
   "id": "bfaab415",
   "metadata": {},
   "source": [
    "a. Estimate the median AQI value of this sample."
   ]
  },
  {
   "cell_type": "markdown",
   "id": "a2b24b0d",
   "metadata": {},
   "source": [
    "##### Answer\n",
    "> About 30."
   ]
  },
  {
   "cell_type": "markdown",
   "id": "cfbe0fcc",
   "metadata": {},
   "source": [
    "b. Would you expect the mean AQI value of this sample to be higher or lower than the median? Explain your reasoning."
   ]
  },
  {
   "cell_type": "markdown",
   "id": "1233baf4",
   "metadata": {},
   "source": [
    "##### Answer\n",
    "> Since the distribution is right skewed the mean is higher than the median."
   ]
  },
  {
   "cell_type": "markdown",
   "id": "4466f78c",
   "metadata": {},
   "source": [
    "c. Estimate Q1, Q3, and IQR for the distribution."
   ]
  },
  {
   "cell_type": "markdown",
   "id": "122fb30d",
   "metadata": {},
   "source": [
    "##### Answer\n",
    "> Q1: between 15 and 20, Q3: between 35 and 40, IQR: about 20."
   ]
  },
  {
   "cell_type": "markdown",
   "id": "2a0f3a06",
   "metadata": {},
   "source": [
    "d. Would any of the days in this sample be considered to have an unusually low or high AQI? Explain your reasoning."
   ]
  },
  {
   "cell_type": "markdown",
   "id": "9519bfe4",
   "metadata": {},
   "source": [
    "##### Answer\n",
    "> Values that are considered to be unusually low or high lie more than 1.5 x IQR away\n",
    "from the quartiles. Upper fence: Q3 + 1.5 x IQR = 37.5 + 1.5 x 20 = 67.5; Lower fence: Q1 - 1.5 x IQR = 17.5 - 1.5 x 20 = -12:5; The lowest AQI recorded is not lower than 5 and the highest AQI recorded is not higher than 65, which are both within the fences. Therefore none of the days in this sample would be considered to have an unusually low or high AQI."
   ]
  },
  {
   "cell_type": "markdown",
   "id": "067d11f2",
   "metadata": {},
   "source": [
    "#### 2.12 Median vs. mean.\n",
    "Estimate the median for the 400 observations shown in the histogram, and note whether you expect the mean to be higher or lower than the median.\n",
    "\n",
    "![](table-2-12-1.jpg)"
   ]
  },
  {
   "cell_type": "markdown",
   "id": "20a6cd36",
   "metadata": {},
   "source": [
    "##### Answer\n",
    "> Median = about 70\n",
    "\n",
    "> Because the chart is left skewed, so the mean is expected to be higher than the median."
   ]
  },
  {
   "cell_type": "markdown",
   "id": "bb49ac50",
   "metadata": {},
   "source": [
    "#### 2.13 Histograms vs. box plots.\n",
    "Compare the two plots below. What characteristics of the distribution are apparent in the histogram and not in the box plot? What characteristics are apparent in the box plot but not in the histogram?\n",
    "\n",
    "![](table-2-13-1.jpg)"
   ]
  },
  {
   "cell_type": "markdown",
   "id": "e9c4bb2d",
   "metadata": {},
   "source": [
    "##### Answer\n",
    "> The histogram shows that the distribution is bimodal, which is not apparent in the box plot. The box plot makes it easy to identify more precise values of observations outside of the whiskers."
   ]
  },
  {
   "cell_type": "markdown",
   "id": "0c775e65",
   "metadata": {},
   "source": [
    "#### 2.14 Facebook friends\n",
    "Facebook data indicate that 50% of Facebook users have 100 or more friends, and that the average friend count of users is 190. What do these findings suggest about the shape of the distribution of number of friends of Facebook users?"
   ]
  },
  {
   "cell_type": "markdown",
   "id": "aee36a11",
   "metadata": {},
   "source": [
    "##### Answer\n",
    "> The average is higher than median which indicates the chart might be left skewed."
   ]
  },
  {
   "cell_type": "markdown",
   "id": "dd545b39",
   "metadata": {},
   "source": [
    "#### 2.15 Distributions and appropriate statistics, Part I.\n",
    "For each of the following, state whether you expect the distribution to be symmetric, right skewed, or left skewed. Also specify whether the mean or median would best represent a typical observation in the data, and whether the variability of observations would be best represented using the standard deviation or IQR. Explain your reasoning."
   ]
  },
  {
   "cell_type": "markdown",
   "id": "44beaf18",
   "metadata": {},
   "source": [
    "a. Number of pets per household."
   ]
  },
  {
   "cell_type": "markdown",
   "id": "fe232a5b",
   "metadata": {},
   "source": [
    "##### Answer\n",
    "> The distribution of number of pets per household is likely right skewed as there is a natural\n",
    "boundary at 0 and only a few people have many pets. Therefore the center would be best described by the\n",
    "median, and variability would be best described by the IQR."
   ]
  },
  {
   "cell_type": "markdown",
   "id": "b560623a",
   "metadata": {},
   "source": [
    "b. Distance to work, i.e. number of miles between work and home."
   ]
  },
  {
   "cell_type": "markdown",
   "id": "391a4bdd",
   "metadata": {},
   "source": [
    "##### Answer\n",
    "> The distribution of number of distance to work is likely right skewed as there is a natural\n",
    "boundary at 0 and only a few people live a very long distance from work. Therefore the center would be\n",
    "best described by the median, and variability would be best described by the IQR."
   ]
  },
  {
   "cell_type": "markdown",
   "id": "8f4b7da9",
   "metadata": {},
   "source": [
    "c. Heights of adult males."
   ]
  },
  {
   "cell_type": "markdown",
   "id": "959981df",
   "metadata": {},
   "source": [
    "##### Answer\n",
    "> The distribution of heights of males is likely symmetric. Therefore the center would be best described by the mean, and variability would be best described by the standard deviation."
   ]
  },
  {
   "cell_type": "markdown",
   "id": "7beaf029",
   "metadata": {},
   "source": [
    "#### 2.16 Distributions and appropriate statistics, Part II.\n",
    "For each of the following, state whether you expect the distribution to be symmetric, right skewed, or left skewed. Also specify whether the mean or median would best represent a typical observation in the data, and whether the variability of observations would be best represented using the standard deviation or IQR. Explain your reasoning."
   ]
  },
  {
   "cell_type": "markdown",
   "id": "96382a71",
   "metadata": {},
   "source": [
    "a. Housing prices in a country where 25% of the houses cost below 350,000 USD, 50% of the houses cost below 450,000 USD, 75% of the houses cost below 1,000,000 USD and there are a meaningful number of houses that cost more than 6,000,000 USD."
   ]
  },
  {
   "cell_type": "markdown",
   "id": "42a29979",
   "metadata": {},
   "source": [
    "##### Answer\n",
    "> Right skewed, median will represent the data best, variability = IQR"
   ]
  },
  {
   "cell_type": "markdown",
   "id": "646860e2",
   "metadata": {},
   "source": [
    "b. Housing prices in a country where 25% of the houses cost below 300,000 USD, 50% of the houses cost below 600,000 USD, 75% of the houses cost below 900,000 USD and very few houses that cost more than 1,200,000 USD."
   ]
  },
  {
   "cell_type": "markdown",
   "id": "32c66221",
   "metadata": {},
   "source": [
    "##### Answer\n",
    "> Symmetrical distribution, average is close to median, standard deviation can represent variability"
   ]
  },
  {
   "cell_type": "markdown",
   "id": "579da506",
   "metadata": {},
   "source": [
    "c. Number of alcoholic drinks consumed by college students in a given week. Assume that most of these students don't drink since they are under 21 years old, and only a few drink excessively."
   ]
  },
  {
   "cell_type": "markdown",
   "id": "ab10cd27",
   "metadata": {},
   "source": [
    "##### Answer\n",
    "> Left skewed, median best represent the observation, IQR best represent variability."
   ]
  },
  {
   "cell_type": "markdown",
   "id": "88959cc7",
   "metadata": {},
   "source": [
    "d. Annual salaries of the employees at a Fortune 500 company where only a few high level executives earn much higher salaries than all the other employees."
   ]
  },
  {
   "cell_type": "markdown",
   "id": "b41f1776",
   "metadata": {},
   "source": [
    "##### Answer\n",
    "> Right skewed, median best represent the observation, IQR best represent variability."
   ]
  },
  {
   "cell_type": "markdown",
   "id": "e98860f7",
   "metadata": {},
   "source": [
    "#### 2.17 Income at the coffee shop.\n",
    "The first histogram below shows the distribution of the yearly incomes of 40 patrons at a college coffee shop. Suppose two new people walk into the coffee shop: one making 225,000 USD and the other 250,000 USD. The second histogram shows the new income distribution. Summary statistics are also provided.\n",
    "\n",
    "![](table-2-17-1.jpg)"
   ]
  },
  {
   "cell_type": "markdown",
   "id": "eac1c5b0",
   "metadata": {},
   "source": [
    "a. Would the mean or the median best represent what we might think of as a typical income for the 42 patrons at this coffee shop? What does this say about the robustness of the two measures?"
   ]
  },
  {
   "cell_type": "markdown",
   "id": "a8191f0e",
   "metadata": {},
   "source": [
    "##### Answer\n",
    "> The median is a much better measure of the typical amount earned by these 42 people. The mean is much higher than the income of 40 of the 42 people. This is because the mean is an arithmetic average and gets affected by the two extreme observations. The median does not get effected as much since it is robust to outliers."
   ]
  },
  {
   "cell_type": "markdown",
   "id": "33a68ac1",
   "metadata": {},
   "source": [
    "b. Would the standard deviation or the IQR best represent the amount of variability in the incomes of the\n",
    "42 patrons at this coffee shop? What does this say about the robustness of the two measures?"
   ]
  },
  {
   "cell_type": "markdown",
   "id": "d6c49774",
   "metadata": {},
   "source": [
    "##### Answer\n",
    "> The IQR is a much better measure of variability in the amounts earned by nearly all of the 42 people. The standard deviation gets affected greatly by the two high salaries, but the IQR is robust to these extreme observations."
   ]
  },
  {
   "cell_type": "markdown",
   "id": "21e7bcd6",
   "metadata": {},
   "source": [
    "#### 2.18 Midrange.\n",
    "The midrange of a distribution is defined as the average of the maximum and the minimum of that distribution. Is this statistic robust to outliers and extreme skew? Explain your reasoning"
   ]
  },
  {
   "cell_type": "markdown",
   "id": "2e715620",
   "metadata": {},
   "source": [
    "##### Answer\n",
    "> Midrange is robust because it indicates the middle value that does not change regardless of the existence of extreme outliers."
   ]
  },
  {
   "cell_type": "markdown",
   "id": "dea36c64",
   "metadata": {},
   "source": [
    "#### 2.19 Commute times.\n",
    "The US census collects data on time it takes Americans to commute to work, among many other variables. The histogram below shows the distribution of average commute times in 3,142 US counties in 2010. Also shown below is a spatial intensity map of the same data.\n",
    "\n",
    "![](table-2-19-1.jpg)"
   ]
  },
  {
   "cell_type": "markdown",
   "id": "17f90eef",
   "metadata": {},
   "source": [
    "a. Describe the numerical distribution and comment on whether or not a log transformation may be\n",
    "advisable for these data."
   ]
  },
  {
   "cell_type": "markdown",
   "id": "427c4872",
   "metadata": {},
   "source": [
    "##### Answer\n",
    "> The distribution is unimodal and symmetric with a mean of about 25 minutes and a standard deviation of about 5 minutes. There does not appear to be any counties with unusually high or low mean travel times. Since the distribution is already unimodal and symmetric, a log transformation is not necessary."
   ]
  },
  {
   "cell_type": "markdown",
   "id": "75a80582",
   "metadata": {},
   "source": [
    "b. Describe the spatial distribution of commuting times using the map below."
   ]
  },
  {
   "cell_type": "markdown",
   "id": "c72ae037",
   "metadata": {},
   "source": [
    "##### Answer\n",
    "> Answers will vary. There are pockets of longer travel time around DC, Southeastern NY, Chicago, Minneapolis, Los Angeles, and many other big cities. There is also a large section of shorter average commute times that overlap with farmland in the Midwest. Many farmers' homes are adjacent to their farmland, so their commute would be brief, which may explain why the average commute time for these counties is relatively low."
   ]
  },
  {
   "cell_type": "markdown",
   "id": "47e333ab",
   "metadata": {},
   "source": [
    "#### 2.20 Hispanic population.\n",
    "The US census collects data on race and ethnicity of Americans, among many other variables. The histogram below shows the distribution of the percentage of the population that is Hispanic in 3,142 counties in the US in 2010. Also shown is a histogram of logs of these values.\n",
    "\n",
    "![](table-2-20-1.jpg)"
   ]
  },
  {
   "cell_type": "markdown",
   "id": "f1ceae8b",
   "metadata": {},
   "source": [
    "a. Describe the numerical distribution and comment on why we might want to use log-transformed values in analyzing or modeling these data."
   ]
  },
  {
   "cell_type": "markdown",
   "id": "b5582001",
   "metadata": {},
   "source": [
    "##### Answer\n",
    "> TThe data is right skewed which makes it harder to see the trend, therefore logarithmic transformation is necessary to analyze the model."
   ]
  },
  {
   "cell_type": "markdown",
   "id": "54600d51",
   "metadata": {},
   "source": [
    "b. What features of the distribution of the Hispanic population in US counties are apparent in the map but not in the histogram? What features are apparent in the histogram but not the map?"
   ]
  },
  {
   "cell_type": "markdown",
   "id": "32442e8d",
   "metadata": {},
   "source": [
    "##### Answer\n",
    "> The map shows that in certain areas, there are higher concentration of hispanic population. This concentration is not apparent in the other two histograms."
   ]
  },
  {
   "cell_type": "markdown",
   "id": "22173b5b",
   "metadata": {},
   "source": [
    "c. Is one visualization more appropriate or helpful than the other? Explain your reasoning."
   ]
  },
  {
   "cell_type": "markdown",
   "id": "668e3191",
   "metadata": {},
   "source": [
    "##### Answer\n",
    "> The map is more appropriate than the other two histograms because it is easier to analyze the concentration of hispanic population."
   ]
  }
 ],
 "metadata": {
  "kernelspec": {
   "display_name": "Python 3 (ipykernel)",
   "language": "python",
   "name": "python3"
  },
  "language_info": {
   "codemirror_mode": {
    "name": "ipython",
    "version": 3
   },
   "file_extension": ".py",
   "mimetype": "text/x-python",
   "name": "python",
   "nbconvert_exporter": "python",
   "pygments_lexer": "ipython3",
   "version": "3.9.0"
  }
 },
 "nbformat": 4,
 "nbformat_minor": 5
}
